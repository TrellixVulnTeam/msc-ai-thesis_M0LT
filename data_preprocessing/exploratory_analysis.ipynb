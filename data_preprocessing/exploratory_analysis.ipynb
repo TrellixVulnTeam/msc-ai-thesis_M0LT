{
 "cells": [
  {
   "cell_type": "markdown",
   "id": "passing-taxation",
   "metadata": {},
   "source": [
    "# Exploratory data analysis & Simple Classifiers\n",
    "## Date created: 1 March 2021\n",
    "### Quick exploration of datasets considered for thesis research.\n",
    "### Currently contains analyses of: Blog Authorship Corpus"
   ]
  },
  {
   "cell_type": "code",
   "execution_count": 1,
   "id": "liked-stage",
   "metadata": {},
   "outputs": [],
   "source": [
    "%matplotlib inline\n",
    "\n",
    "# Import statements\n",
    "import os # for directory operations\n",
    "import numpy as np # for numerical/linear algebra methods\n",
    "import pandas as pd # for data(frame) processing\n",
    "import pdb # for debudding\n",
    "import matplotlib.pyplot as plt # for plotting\n",
    "import seaborn as sns # for cool plotting\n",
    "import re # for regular expression\n",
    "import nltk # natural language processing toolkit\n",
    "from sklearn.feature_extraction.text import CountVectorizer\n",
    "from sklearn.preprocessing import MultiLabelBinarizer\n",
    "from sklearn.model_selection import train_test_split\n",
    "from sklearn.multiclass import OneVsRestClassifier\n",
    "from sklearn.linear_model import LogisticRegression\n",
    "from sklearn.metrics import accuracy_score\n",
    "from sklearn.metrics import f1_score\n",
    "from sklearn.metrics import average_precision_score\n",
    "from sklearn.metrics import recall_score\n",
    "from langdetect import detect, detect_langs # for language detection\n"
   ]
  },
  {
   "cell_type": "code",
   "execution_count": 2,
   "id": "missing-italian",
   "metadata": {},
   "outputs": [],
   "source": [
    "# TODO: write specification scheme for type of \"simple\" classifier to build and test?\n",
    "# Maybe just have the notebook build, train, and test all simple ones, i.e., Logit+ n-grams, Logit + grams + linguistic features, etc.\n",
    "# Specifiy trian-test splits\n",
    "# What else? --> Label to predict (e.g., age cat, age number, gender, astrological sign, topic)\n",
    "SEED = 420\n",
    "MAX_N_GRAM = 2\n",
    "TEST_SPLIT = 0.2"
   ]
  },
  {
   "cell_type": "code",
   "execution_count": 3,
   "id": "presidential-commodity",
   "metadata": {},
   "outputs": [],
   "source": [
    "# Set seed for reproducibility \n",
    "np.random.seed(SEED)"
   ]
  },
  {
   "cell_type": "code",
   "execution_count": 4,
   "id": "confident-costume",
   "metadata": {},
   "outputs": [
    {
     "name": "stdout",
     "output_type": "stream",
     "text": [
      "../data/blogs_kaggle/.DS_Store\n",
      "../data/blogs_kaggle/blogtext.csv\n"
     ]
    }
   ],
   "source": [
    "# Get pathname of dataset\n",
    "for dirname, _, filenames in os.walk(\"../data/blogs_kaggle\"):\n",
    "    for filename in filenames:\n",
    "        print(os.path.join(dirname, filename))"
   ]
  },
  {
   "cell_type": "code",
   "execution_count": 5,
   "id": "adult-foster",
   "metadata": {},
   "outputs": [],
   "source": [
    "# Read and load dataset\n",
    "data = pd.read_csv(\"../data/blogs_kaggle/blogtext.csv\")"
   ]
  },
  {
   "cell_type": "code",
   "execution_count": 6,
   "id": "beneficial-eight",
   "metadata": {},
   "outputs": [
    {
     "data": {
      "text/html": [
       "<div>\n",
       "<style scoped>\n",
       "    .dataframe tbody tr th:only-of-type {\n",
       "        vertical-align: middle;\n",
       "    }\n",
       "\n",
       "    .dataframe tbody tr th {\n",
       "        vertical-align: top;\n",
       "    }\n",
       "\n",
       "    .dataframe thead th {\n",
       "        text-align: right;\n",
       "    }\n",
       "</style>\n",
       "<table border=\"1\" class=\"dataframe\">\n",
       "  <thead>\n",
       "    <tr style=\"text-align: right;\">\n",
       "      <th></th>\n",
       "      <th>id</th>\n",
       "      <th>gender</th>\n",
       "      <th>age</th>\n",
       "      <th>topic</th>\n",
       "      <th>sign</th>\n",
       "      <th>date</th>\n",
       "      <th>text</th>\n",
       "    </tr>\n",
       "  </thead>\n",
       "  <tbody>\n",
       "    <tr>\n",
       "      <th>0</th>\n",
       "      <td>2059027</td>\n",
       "      <td>male</td>\n",
       "      <td>15</td>\n",
       "      <td>Student</td>\n",
       "      <td>Leo</td>\n",
       "      <td>14,May,2004</td>\n",
       "      <td>Info has been found (+/- 100 pages,...</td>\n",
       "    </tr>\n",
       "    <tr>\n",
       "      <th>1</th>\n",
       "      <td>2059027</td>\n",
       "      <td>male</td>\n",
       "      <td>15</td>\n",
       "      <td>Student</td>\n",
       "      <td>Leo</td>\n",
       "      <td>13,May,2004</td>\n",
       "      <td>These are the team members:   Drewe...</td>\n",
       "    </tr>\n",
       "    <tr>\n",
       "      <th>2</th>\n",
       "      <td>2059027</td>\n",
       "      <td>male</td>\n",
       "      <td>15</td>\n",
       "      <td>Student</td>\n",
       "      <td>Leo</td>\n",
       "      <td>12,May,2004</td>\n",
       "      <td>In het kader van kernfusie op aarde...</td>\n",
       "    </tr>\n",
       "    <tr>\n",
       "      <th>3</th>\n",
       "      <td>2059027</td>\n",
       "      <td>male</td>\n",
       "      <td>15</td>\n",
       "      <td>Student</td>\n",
       "      <td>Leo</td>\n",
       "      <td>12,May,2004</td>\n",
       "      <td>testing!!!  testing!!!</td>\n",
       "    </tr>\n",
       "    <tr>\n",
       "      <th>4</th>\n",
       "      <td>3581210</td>\n",
       "      <td>male</td>\n",
       "      <td>33</td>\n",
       "      <td>InvestmentBanking</td>\n",
       "      <td>Aquarius</td>\n",
       "      <td>11,June,2004</td>\n",
       "      <td>Thanks to Yahoo!'s Toolbar I can ...</td>\n",
       "    </tr>\n",
       "    <tr>\n",
       "      <th>5</th>\n",
       "      <td>3581210</td>\n",
       "      <td>male</td>\n",
       "      <td>33</td>\n",
       "      <td>InvestmentBanking</td>\n",
       "      <td>Aquarius</td>\n",
       "      <td>10,June,2004</td>\n",
       "      <td>I had an interesting conversation...</td>\n",
       "    </tr>\n",
       "    <tr>\n",
       "      <th>6</th>\n",
       "      <td>3581210</td>\n",
       "      <td>male</td>\n",
       "      <td>33</td>\n",
       "      <td>InvestmentBanking</td>\n",
       "      <td>Aquarius</td>\n",
       "      <td>10,June,2004</td>\n",
       "      <td>Somehow Coca-Cola has a way of su...</td>\n",
       "    </tr>\n",
       "    <tr>\n",
       "      <th>7</th>\n",
       "      <td>3581210</td>\n",
       "      <td>male</td>\n",
       "      <td>33</td>\n",
       "      <td>InvestmentBanking</td>\n",
       "      <td>Aquarius</td>\n",
       "      <td>10,June,2004</td>\n",
       "      <td>If anything, Korea is a country o...</td>\n",
       "    </tr>\n",
       "    <tr>\n",
       "      <th>8</th>\n",
       "      <td>3581210</td>\n",
       "      <td>male</td>\n",
       "      <td>33</td>\n",
       "      <td>InvestmentBanking</td>\n",
       "      <td>Aquarius</td>\n",
       "      <td>10,June,2004</td>\n",
       "      <td>Take a read of this news article ...</td>\n",
       "    </tr>\n",
       "    <tr>\n",
       "      <th>9</th>\n",
       "      <td>3581210</td>\n",
       "      <td>male</td>\n",
       "      <td>33</td>\n",
       "      <td>InvestmentBanking</td>\n",
       "      <td>Aquarius</td>\n",
       "      <td>09,June,2004</td>\n",
       "      <td>I surf the English news sites a l...</td>\n",
       "    </tr>\n",
       "    <tr>\n",
       "      <th>10</th>\n",
       "      <td>3581210</td>\n",
       "      <td>male</td>\n",
       "      <td>33</td>\n",
       "      <td>InvestmentBanking</td>\n",
       "      <td>Aquarius</td>\n",
       "      <td>09,June,2004</td>\n",
       "      <td>Ah, the Korean language...it look...</td>\n",
       "    </tr>\n",
       "    <tr>\n",
       "      <th>11</th>\n",
       "      <td>3581210</td>\n",
       "      <td>male</td>\n",
       "      <td>33</td>\n",
       "      <td>InvestmentBanking</td>\n",
       "      <td>Aquarius</td>\n",
       "      <td>09,June,2004</td>\n",
       "      <td>If you click on my profile you'll...</td>\n",
       "    </tr>\n",
       "    <tr>\n",
       "      <th>12</th>\n",
       "      <td>3581210</td>\n",
       "      <td>male</td>\n",
       "      <td>33</td>\n",
       "      <td>InvestmentBanking</td>\n",
       "      <td>Aquarius</td>\n",
       "      <td>09,June,2004</td>\n",
       "      <td>Last night was pretty fun...mostl...</td>\n",
       "    </tr>\n",
       "    <tr>\n",
       "      <th>13</th>\n",
       "      <td>3581210</td>\n",
       "      <td>male</td>\n",
       "      <td>33</td>\n",
       "      <td>InvestmentBanking</td>\n",
       "      <td>Aquarius</td>\n",
       "      <td>09,June,2004</td>\n",
       "      <td>There is so much that is differen...</td>\n",
       "    </tr>\n",
       "    <tr>\n",
       "      <th>14</th>\n",
       "      <td>3581210</td>\n",
       "      <td>male</td>\n",
       "      <td>33</td>\n",
       "      <td>InvestmentBanking</td>\n",
       "      <td>Aquarius</td>\n",
       "      <td>09,June,2004</td>\n",
       "      <td>urlLink    Here it is, the super...</td>\n",
       "    </tr>\n",
       "  </tbody>\n",
       "</table>\n",
       "</div>"
      ],
      "text/plain": [
       "         id gender  age              topic      sign          date  \\\n",
       "0   2059027   male   15            Student       Leo   14,May,2004   \n",
       "1   2059027   male   15            Student       Leo   13,May,2004   \n",
       "2   2059027   male   15            Student       Leo   12,May,2004   \n",
       "3   2059027   male   15            Student       Leo   12,May,2004   \n",
       "4   3581210   male   33  InvestmentBanking  Aquarius  11,June,2004   \n",
       "5   3581210   male   33  InvestmentBanking  Aquarius  10,June,2004   \n",
       "6   3581210   male   33  InvestmentBanking  Aquarius  10,June,2004   \n",
       "7   3581210   male   33  InvestmentBanking  Aquarius  10,June,2004   \n",
       "8   3581210   male   33  InvestmentBanking  Aquarius  10,June,2004   \n",
       "9   3581210   male   33  InvestmentBanking  Aquarius  09,June,2004   \n",
       "10  3581210   male   33  InvestmentBanking  Aquarius  09,June,2004   \n",
       "11  3581210   male   33  InvestmentBanking  Aquarius  09,June,2004   \n",
       "12  3581210   male   33  InvestmentBanking  Aquarius  09,June,2004   \n",
       "13  3581210   male   33  InvestmentBanking  Aquarius  09,June,2004   \n",
       "14  3581210   male   33  InvestmentBanking  Aquarius  09,June,2004   \n",
       "\n",
       "                                                 text  \n",
       "0              Info has been found (+/- 100 pages,...  \n",
       "1              These are the team members:   Drewe...  \n",
       "2              In het kader van kernfusie op aarde...  \n",
       "3                    testing!!!  testing!!!            \n",
       "4                Thanks to Yahoo!'s Toolbar I can ...  \n",
       "5                I had an interesting conversation...  \n",
       "6                Somehow Coca-Cola has a way of su...  \n",
       "7                If anything, Korea is a country o...  \n",
       "8                Take a read of this news article ...  \n",
       "9                I surf the English news sites a l...  \n",
       "10               Ah, the Korean language...it look...  \n",
       "11               If you click on my profile you'll...  \n",
       "12               Last night was pretty fun...mostl...  \n",
       "13               There is so much that is differen...  \n",
       "14                urlLink    Here it is, the super...  "
      ]
     },
     "execution_count": 6,
     "metadata": {},
     "output_type": "execute_result"
    }
   ],
   "source": [
    "# Quick sample/overview of dataframe structure\n",
    "data.head(15)\n",
    "# TODO: Remove non-English texts --> See row 2 --> See DialoGPT paper for tips on filtering out languages"
   ]
  },
  {
   "cell_type": "code",
   "execution_count": 7,
   "id": "accomplished-metadata",
   "metadata": {},
   "outputs": [
    {
     "data": {
      "text/plain": [
       "id        False\n",
       "gender    False\n",
       "age       False\n",
       "topic     False\n",
       "sign      False\n",
       "date      False\n",
       "text      False\n",
       "dtype: bool"
      ]
     },
     "execution_count": 7,
     "metadata": {},
     "output_type": "execute_result"
    }
   ],
   "source": [
    "# Check for missing values/NAs in all variables\n",
    "data.isna().any()"
   ]
  },
  {
   "cell_type": "code",
   "execution_count": 8,
   "id": "popular-stockholm",
   "metadata": {},
   "outputs": [
    {
     "name": "stdout",
     "output_type": "stream",
     "text": [
      "<class 'pandas.core.frame.DataFrame'>\n",
      "RangeIndex: 681284 entries, 0 to 681283\n",
      "Data columns (total 7 columns):\n",
      " #   Column  Non-Null Count   Dtype \n",
      "---  ------  --------------   ----- \n",
      " 0   id      681284 non-null  int64 \n",
      " 1   gender  681284 non-null  object\n",
      " 2   age     681284 non-null  int64 \n",
      " 3   topic   681284 non-null  object\n",
      " 4   sign    681284 non-null  object\n",
      " 5   date    681284 non-null  object\n",
      " 6   text    681284 non-null  object\n",
      "dtypes: int64(2), object(5)\n",
      "memory usage: 36.4+ MB\n"
     ]
    }
   ],
   "source": [
    "\n",
    "data.info()"
   ]
  },
  {
   "cell_type": "code",
   "execution_count": 9,
   "id": "metallic-letters",
   "metadata": {},
   "outputs": [],
   "source": [
    "# TODO: comment out this cell when running analyses on full dataset.\n",
    "# Take subset of data for faster testing\n",
    "data = data.head(10000)"
   ]
  },
  {
   "cell_type": "code",
   "execution_count": 10,
   "id": "formal-giant",
   "metadata": {},
   "outputs": [
    {
     "data": {
      "text/plain": [
       "(10000, 7)"
      ]
     },
     "execution_count": 10,
     "metadata": {},
     "output_type": "execute_result"
    }
   ],
   "source": [
    "# Shape (i.e., number of datapoints and variables, respectively) of dataframe\n",
    "data.shape"
   ]
  },
  {
   "cell_type": "markdown",
   "id": "usual-share",
   "metadata": {},
   "source": [
    "## Exploratory analysis"
   ]
  },
  {
   "cell_type": "code",
   "execution_count": 11,
   "id": "boxed-shooting",
   "metadata": {},
   "outputs": [
    {
     "data": {
      "text/html": [
       "<div>\n",
       "<style scoped>\n",
       "    .dataframe tbody tr th:only-of-type {\n",
       "        vertical-align: middle;\n",
       "    }\n",
       "\n",
       "    .dataframe tbody tr th {\n",
       "        vertical-align: top;\n",
       "    }\n",
       "\n",
       "    .dataframe thead th {\n",
       "        text-align: right;\n",
       "    }\n",
       "</style>\n",
       "<table border=\"1\" class=\"dataframe\">\n",
       "  <thead>\n",
       "    <tr style=\"text-align: right;\">\n",
       "      <th></th>\n",
       "      <th>gender</th>\n",
       "      <th>topic</th>\n",
       "      <th>sign</th>\n",
       "      <th>date</th>\n",
       "      <th>text</th>\n",
       "    </tr>\n",
       "  </thead>\n",
       "  <tbody>\n",
       "    <tr>\n",
       "      <th>count</th>\n",
       "      <td>10000</td>\n",
       "      <td>10000</td>\n",
       "      <td>10000</td>\n",
       "      <td>10000</td>\n",
       "      <td>10000</td>\n",
       "    </tr>\n",
       "    <tr>\n",
       "      <th>unique</th>\n",
       "      <td>2</td>\n",
       "      <td>26</td>\n",
       "      <td>12</td>\n",
       "      <td>718</td>\n",
       "      <td>9949</td>\n",
       "    </tr>\n",
       "    <tr>\n",
       "      <th>top</th>\n",
       "      <td>male</td>\n",
       "      <td>indUnk</td>\n",
       "      <td>Aries</td>\n",
       "      <td>05,August,2004</td>\n",
       "      <td></td>\n",
       "    </tr>\n",
       "    <tr>\n",
       "      <th>freq</th>\n",
       "      <td>5916</td>\n",
       "      <td>3287</td>\n",
       "      <td>4198</td>\n",
       "      <td>2329</td>\n",
       "      <td>13</td>\n",
       "    </tr>\n",
       "  </tbody>\n",
       "</table>\n",
       "</div>"
      ],
      "text/plain": [
       "       gender   topic   sign            date          text\n",
       "count   10000   10000  10000           10000         10000\n",
       "unique      2      26     12             718          9949\n",
       "top      male  indUnk  Aries  05,August,2004              \n",
       "freq     5916    3287   4198            2329            13"
      ]
     },
     "execution_count": 11,
     "metadata": {},
     "output_type": "execute_result"
    }
   ],
   "source": [
    "data.describe(include = ['object', 'bool'])"
   ]
  },
  {
   "cell_type": "code",
   "execution_count": 12,
   "id": "burning-andrews",
   "metadata": {},
   "outputs": [],
   "source": [
    "# Convert all columns (except ID and date) to object type\n",
    "data['age'] = data['age'].astype(object)"
   ]
  },
  {
   "cell_type": "code",
   "execution_count": 13,
   "id": "overall-direction",
   "metadata": {},
   "outputs": [
    {
     "data": {
      "text/plain": [
       "Text(0.5, 1.0, 'Unconditional Age Distribution')"
      ]
     },
     "execution_count": 13,
     "metadata": {},
     "output_type": "execute_result"
    },
    {
     "data": {
      "image/png": "[encoded data removed]",
      "text/plain": [
       "<Figure size 432x288 with 1 Axes>"
      ]
     },
     "metadata": {
      "needs_background": "light"
     },
     "output_type": "display_data"
    }
   ],
   "source": [
    "# Age distribution, unconditional\n",
    "sns.histplot(data, x = \"age\", binwidth = 3, stat = \"probability\")\n",
    "plt.title(\"Unconditional Age Distribution\")"
   ]
  },
  {
   "cell_type": "code",
   "execution_count": 14,
   "id": "external-usage",
   "metadata": {},
   "outputs": [
    {
     "data": {
      "text/plain": [
       "Text(0.5, 1.0, 'Age Distribution, Conditioned On Gender')"
      ]
     },
     "execution_count": 14,
     "metadata": {},
     "output_type": "execute_result"
    },
    {
     "data": {
      "image/png": "[encoded data removed]",
      "text/plain": [
       "<Figure size 432x288 with 1 Axes>"
      ]
     },
     "metadata": {
      "needs_background": "light"
     },
     "output_type": "display_data"
    }
   ],
   "source": [
    "# Age distribution, conditioned on gender\n",
    "sns.histplot(data, x = \"age\", hue = \"gender\", binwidth = 3, stat = \"probability\")\n",
    "plt.title(\"Age Distribution, Conditioned On Gender\")"
   ]
  },
  {
   "cell_type": "code",
   "execution_count": 15,
   "id": "qualified-glasgow",
   "metadata": {},
   "outputs": [
    {
     "data": {
      "text/plain": [
       "Text(0.5, 1.0, 'Distribution of Astrological Signs')"
      ]
     },
     "execution_count": 15,
     "metadata": {},
     "output_type": "execute_result"
    },
    {
     "data": {
      "image/png": "[encoded data removed]",
      "text/plain": [
       "<Figure size 432x288 with 1 Axes>"
      ]
     },
     "metadata": {
      "needs_background": "light"
     },
     "output_type": "display_data"
    }
   ],
   "source": [
    "sns.histplot(data, x = 'sign', stat = 'probability')\n",
    "plt.xticks(rotation=45)\n",
    "plt.title(\"Distribution of Astrological Signs\")"
   ]
  },
  {
   "cell_type": "code",
   "execution_count": 16,
   "id": "isolated-shell",
   "metadata": {},
   "outputs": [
    {
     "data": {
      "text/plain": [
       "Text(0.5, 1.0, 'Distribution of Topics')"
      ]
     },
     "execution_count": 16,
     "metadata": {},
     "output_type": "execute_result"
    },
    {
     "data": {
      "image/png": "[encoded data removed]",
      "text/plain": [
       "<Figure size 432x288 with 1 Axes>"
      ]
     },
     "metadata": {
      "needs_background": "light"
     },
     "output_type": "display_data"
    }
   ],
   "source": [
    "sns.histplot(data, x = 'topic', stat = 'probability')\n",
    "plt.xticks(rotation=85)\n",
    "plt.title(\"Distribution of Topics\")"
   ]
  },
  {
   "cell_type": "markdown",
   "id": "irish-avatar",
   "metadata": {},
   "source": [
    "## Data cleaning / preprocessing"
   ]
  },
  {
   "cell_type": "code",
   "execution_count": 17,
   "id": "controlling-tender",
   "metadata": {},
   "outputs": [],
   "source": [
    "# Removing all unwanted text/characters from data['text'] column\n",
    "\n",
    "# Remove all non-alphabetical characters\n",
    "data['clean_data'] = data['text'].apply(lambda x: re.sub(r'[^A-Za-z]+',' ', x))"
   ]
  },
  {
   "cell_type": "code",
   "execution_count": 18,
   "id": "clinical-rhythm",
   "metadata": {},
   "outputs": [],
   "source": [
    "# Make all letters lower case\n",
    "data['clean_data'] = data['clean_data'].apply(lambda x: x.lower())"
   ]
  },
  {
   "cell_type": "code",
   "execution_count": 19,
   "id": "sized-staff",
   "metadata": {},
   "outputs": [],
   "source": [
    "# Remove white space from beginning and end of string\n",
    "data['clean_data'] = data['clean_data'].apply(lambda x: x.strip())"
   ]
  },
  {
   "cell_type": "code",
   "execution_count": 20,
   "id": "cross-antique",
   "metadata": {},
   "outputs": [
    {
     "name": "stdout",
     "output_type": "stream",
     "text": [
      "43 instances removed.\n"
     ]
    }
   ],
   "source": [
    "# Remove instances empty strings\n",
    "before_rm_empty = len(data)\n",
    "data.drop(data[data.clean_data == ''].index, inplace = True)\n",
    "\n",
    "print(f'{before_rm_empty - len(data)} instances removed.')"
   ]
  },
  {
   "cell_type": "code",
   "execution_count": 66,
   "id": "normal-still",
   "metadata": {},
   "outputs": [],
   "source": [
    "# Remove texts that are probably not English by filtering blogs that dont contain at least one of the top 50 most used English words\n",
    "\n",
    "# create dict with most common English words\n",
    "top_en_words = {}\n",
    "with open('../data/wordlists/top1000english.txt') as f:\n",
    "    count = 1\n",
    "    for line in f:\n",
    "        key = line.split()[0].lower()\n",
    "        top_en_words[key] = count\n",
    "        count += 1\n",
    "        \n",
    "        # Stop at top 50 words. Idea taken from DialoGPT paper.\n",
    "        if count > 50:\n",
    "            break\n",
    "\n",
    "\n",
    "data['top_50_en'] = data['clean_data'].apply(lambda x : True if not set(x.split()).isdisjoint(top_en_words) else False)\n",
    "\n",
    "def top_lang_detect(text):\n",
    "    \n",
    "    detected_langs = detect_langs(text)\n",
    "    \n",
    "    return detected_langs[0].lang\n",
    "        \n",
    "\n",
    "def top_prob_detect(text):\n",
    "    \n",
    "    detected_langs = detect_langs(text)\n",
    "    \n",
    "    return detected_langs[0].prob\n",
    "\n",
    "data['top_lang'] = data['clean_data'].apply(top_lang_detect)\n",
    "data['top_prob'] = data['clean_data'].apply(top_prob_detect)"
   ]
  },
  {
   "cell_type": "code",
   "execution_count": 67,
   "id": "confidential-particular",
   "metadata": {},
   "outputs": [
    {
     "data": {
      "text/html": [
       "<div>\n",
       "<style scoped>\n",
       "    .dataframe tbody tr th:only-of-type {\n",
       "        vertical-align: middle;\n",
       "    }\n",
       "\n",
       "    .dataframe tbody tr th {\n",
       "        vertical-align: top;\n",
       "    }\n",
       "\n",
       "    .dataframe thead th {\n",
       "        text-align: right;\n",
       "    }\n",
       "</style>\n",
       "<table border=\"1\" class=\"dataframe\">\n",
       "  <thead>\n",
       "    <tr style=\"text-align: right;\">\n",
       "      <th></th>\n",
       "      <th>id</th>\n",
       "      <th>gender</th>\n",
       "      <th>age</th>\n",
       "      <th>topic</th>\n",
       "      <th>sign</th>\n",
       "      <th>date</th>\n",
       "      <th>text</th>\n",
       "      <th>clean_data</th>\n",
       "      <th>top_50_en</th>\n",
       "      <th>detected_langs</th>\n",
       "      <th>top_lang</th>\n",
       "      <th>top_prob</th>\n",
       "    </tr>\n",
       "  </thead>\n",
       "  <tbody>\n",
       "    <tr>\n",
       "      <th>0</th>\n",
       "      <td>2059027</td>\n",
       "      <td>male</td>\n",
       "      <td>15</td>\n",
       "      <td>Student</td>\n",
       "      <td>Leo</td>\n",
       "      <td>14,May,2004</td>\n",
       "      <td>Info has been found (+/- 100 pages,...</td>\n",
       "      <td>info has been found pages and mb of pdf files ...</td>\n",
       "      <td>True</td>\n",
       "      <td>[en, 0.9999961923054654]</td>\n",
       "      <td>en</td>\n",
       "      <td>0.999997</td>\n",
       "    </tr>\n",
       "    <tr>\n",
       "      <th>1</th>\n",
       "      <td>2059027</td>\n",
       "      <td>male</td>\n",
       "      <td>15</td>\n",
       "      <td>Student</td>\n",
       "      <td>Leo</td>\n",
       "      <td>13,May,2004</td>\n",
       "      <td>These are the team members:   Drewe...</td>\n",
       "      <td>these are the team members drewes van der laag...</td>\n",
       "      <td>True</td>\n",
       "      <td>[nl, 0.7143457165176873]</td>\n",
       "      <td>nl</td>\n",
       "      <td>0.571428</td>\n",
       "    </tr>\n",
       "    <tr>\n",
       "      <th>2</th>\n",
       "      <td>2059027</td>\n",
       "      <td>male</td>\n",
       "      <td>15</td>\n",
       "      <td>Student</td>\n",
       "      <td>Leo</td>\n",
       "      <td>12,May,2004</td>\n",
       "      <td>In het kader van kernfusie op aarde...</td>\n",
       "      <td>in het kader van kernfusie op aarde maak je ei...</td>\n",
       "      <td>True</td>\n",
       "      <td>[en, 0.9999943534574756]</td>\n",
       "      <td>en</td>\n",
       "      <td>0.999996</td>\n",
       "    </tr>\n",
       "    <tr>\n",
       "      <th>3</th>\n",
       "      <td>2059027</td>\n",
       "      <td>male</td>\n",
       "      <td>15</td>\n",
       "      <td>Student</td>\n",
       "      <td>Leo</td>\n",
       "      <td>12,May,2004</td>\n",
       "      <td>testing!!!  testing!!!</td>\n",
       "      <td>testing testing</td>\n",
       "      <td>False</td>\n",
       "      <td>[en, 0.9999927026168345]</td>\n",
       "      <td>en</td>\n",
       "      <td>0.999995</td>\n",
       "    </tr>\n",
       "    <tr>\n",
       "      <th>4</th>\n",
       "      <td>3581210</td>\n",
       "      <td>male</td>\n",
       "      <td>33</td>\n",
       "      <td>InvestmentBanking</td>\n",
       "      <td>Aquarius</td>\n",
       "      <td>11,June,2004</td>\n",
       "      <td>Thanks to Yahoo!'s Toolbar I can ...</td>\n",
       "      <td>thanks to yahoo s toolbar i can now capture th...</td>\n",
       "      <td>True</td>\n",
       "      <td>[en, 0.9999980309369944]</td>\n",
       "      <td>en</td>\n",
       "      <td>0.999997</td>\n",
       "    </tr>\n",
       "    <tr>\n",
       "      <th>...</th>\n",
       "      <td>...</td>\n",
       "      <td>...</td>\n",
       "      <td>...</td>\n",
       "      <td>...</td>\n",
       "      <td>...</td>\n",
       "      <td>...</td>\n",
       "      <td>...</td>\n",
       "      <td>...</td>\n",
       "      <td>...</td>\n",
       "      <td>...</td>\n",
       "      <td>...</td>\n",
       "      <td>...</td>\n",
       "    </tr>\n",
       "    <tr>\n",
       "      <th>9995</th>\n",
       "      <td>1705136</td>\n",
       "      <td>female</td>\n",
       "      <td>25</td>\n",
       "      <td>indUnk</td>\n",
       "      <td>Pisces</td>\n",
       "      <td>19,May,2004</td>\n",
       "      <td>take me home with you forever where I ...</td>\n",
       "      <td>take me home with you forever where i may rest...</td>\n",
       "      <td>True</td>\n",
       "      <td>[en, 0.9999969406689142]</td>\n",
       "      <td>en</td>\n",
       "      <td>0.999998</td>\n",
       "    </tr>\n",
       "    <tr>\n",
       "      <th>9996</th>\n",
       "      <td>1705136</td>\n",
       "      <td>female</td>\n",
       "      <td>25</td>\n",
       "      <td>indUnk</td>\n",
       "      <td>Pisces</td>\n",
       "      <td>23,June,2004</td>\n",
       "      <td>seductive secretness behind doors warn...</td>\n",
       "      <td>seductive secretness behind doors warning me t...</td>\n",
       "      <td>True</td>\n",
       "      <td>[en, 0.9999958387003478]</td>\n",
       "      <td>en</td>\n",
       "      <td>0.999998</td>\n",
       "    </tr>\n",
       "    <tr>\n",
       "      <th>9997</th>\n",
       "      <td>1705136</td>\n",
       "      <td>female</td>\n",
       "      <td>25</td>\n",
       "      <td>indUnk</td>\n",
       "      <td>Pisces</td>\n",
       "      <td>21,June,2004</td>\n",
       "      <td>For being so kind to me when I need yo...</td>\n",
       "      <td>for being so kind to me when i need you most f...</td>\n",
       "      <td>True</td>\n",
       "      <td>[en, 0.9999973417967196]</td>\n",
       "      <td>en</td>\n",
       "      <td>0.999997</td>\n",
       "    </tr>\n",
       "    <tr>\n",
       "      <th>9998</th>\n",
       "      <td>1705136</td>\n",
       "      <td>female</td>\n",
       "      <td>25</td>\n",
       "      <td>indUnk</td>\n",
       "      <td>Pisces</td>\n",
       "      <td>09,June,2004</td>\n",
       "      <td>blurry outside sounds as people mingle...</td>\n",
       "      <td>blurry outside sounds as people mingle and pas...</td>\n",
       "      <td>True</td>\n",
       "      <td>[en, 0.9999980260258055]</td>\n",
       "      <td>en</td>\n",
       "      <td>0.999997</td>\n",
       "    </tr>\n",
       "    <tr>\n",
       "      <th>9999</th>\n",
       "      <td>1705136</td>\n",
       "      <td>female</td>\n",
       "      <td>25</td>\n",
       "      <td>indUnk</td>\n",
       "      <td>Pisces</td>\n",
       "      <td>07,June,2004</td>\n",
       "      <td>my body feels broken while my mind rej...</td>\n",
       "      <td>my body feels broken while my mind rejoices at...</td>\n",
       "      <td>True</td>\n",
       "      <td>[en, 0.9999965686558009]</td>\n",
       "      <td>en</td>\n",
       "      <td>0.999997</td>\n",
       "    </tr>\n",
       "  </tbody>\n",
       "</table>\n",
       "<p>9957 rows × 12 columns</p>\n",
       "</div>"
      ],
      "text/plain": [
       "           id  gender age              topic      sign          date  \\\n",
       "0     2059027    male  15            Student       Leo   14,May,2004   \n",
       "1     2059027    male  15            Student       Leo   13,May,2004   \n",
       "2     2059027    male  15            Student       Leo   12,May,2004   \n",
       "3     2059027    male  15            Student       Leo   12,May,2004   \n",
       "4     3581210    male  33  InvestmentBanking  Aquarius  11,June,2004   \n",
       "...       ...     ...  ..                ...       ...           ...   \n",
       "9995  1705136  female  25             indUnk    Pisces   19,May,2004   \n",
       "9996  1705136  female  25             indUnk    Pisces  23,June,2004   \n",
       "9997  1705136  female  25             indUnk    Pisces  21,June,2004   \n",
       "9998  1705136  female  25             indUnk    Pisces  09,June,2004   \n",
       "9999  1705136  female  25             indUnk    Pisces  07,June,2004   \n",
       "\n",
       "                                                   text  \\\n",
       "0                Info has been found (+/- 100 pages,...   \n",
       "1                These are the team members:   Drewe...   \n",
       "2                In het kader van kernfusie op aarde...   \n",
       "3                      testing!!!  testing!!!             \n",
       "4                  Thanks to Yahoo!'s Toolbar I can ...   \n",
       "...                                                 ...   \n",
       "9995          take me home with you forever where I ...   \n",
       "9996          seductive secretness behind doors warn...   \n",
       "9997          For being so kind to me when I need yo...   \n",
       "9998          blurry outside sounds as people mingle...   \n",
       "9999          my body feels broken while my mind rej...   \n",
       "\n",
       "                                             clean_data  top_50_en  \\\n",
       "0     info has been found pages and mb of pdf files ...       True   \n",
       "1     these are the team members drewes van der laag...       True   \n",
       "2     in het kader van kernfusie op aarde maak je ei...       True   \n",
       "3                                       testing testing      False   \n",
       "4     thanks to yahoo s toolbar i can now capture th...       True   \n",
       "...                                                 ...        ...   \n",
       "9995  take me home with you forever where i may rest...       True   \n",
       "9996  seductive secretness behind doors warning me t...       True   \n",
       "9997  for being so kind to me when i need you most f...       True   \n",
       "9998  blurry outside sounds as people mingle and pas...       True   \n",
       "9999  my body feels broken while my mind rejoices at...       True   \n",
       "\n",
       "                detected_langs top_lang  top_prob  \n",
       "0     [en, 0.9999961923054654]       en  0.999997  \n",
       "1     [nl, 0.7143457165176873]       nl  0.571428  \n",
       "2     [en, 0.9999943534574756]       en  0.999996  \n",
       "3     [en, 0.9999927026168345]       en  0.999995  \n",
       "4     [en, 0.9999980309369944]       en  0.999997  \n",
       "...                        ...      ...       ...  \n",
       "9995  [en, 0.9999969406689142]       en  0.999998  \n",
       "9996  [en, 0.9999958387003478]       en  0.999998  \n",
       "9997  [en, 0.9999973417967196]       en  0.999997  \n",
       "9998  [en, 0.9999980260258055]       en  0.999997  \n",
       "9999  [en, 0.9999965686558009]       en  0.999997  \n",
       "\n",
       "[9957 rows x 12 columns]"
      ]
     },
     "execution_count": 67,
     "metadata": {},
     "output_type": "execute_result"
    }
   ],
   "source": [
    "data"
   ]
  },
  {
   "cell_type": "code",
   "execution_count": 68,
   "id": "scheduled-breast",
   "metadata": {},
   "outputs": [
    {
     "name": "stdout",
     "output_type": "stream",
     "text": [
      "361 instances dropped\n"
     ]
    }
   ],
   "source": [
    "# Remove rows without one of top50 most common english words\n",
    "before_top50_removal = len(data)\n",
    "data.drop(data[data['top_50_en'] == False].index, inplace = True)\n",
    "print(f\"{before_top50_removal - len(data)} instances dropped\")"
   ]
  },
  {
   "cell_type": "code",
   "execution_count": 71,
   "id": "laden-singles",
   "metadata": {},
   "outputs": [
    {
     "name": "stdout",
     "output_type": "stream",
     "text": [
      "197 instances dropped.\n"
     ]
    }
   ],
   "source": [
    "before_top_lang = len(data)\n",
    "data.drop(data[data['top_lang'] != 'en'].index, inplace = True)\n",
    "print(f'{before_top_lang - len(data)} instances dropped.')"
   ]
  },
  {
   "cell_type": "code",
   "execution_count": 72,
   "id": "dense-economy",
   "metadata": {},
   "outputs": [
    {
     "name": "stdout",
     "output_type": "stream",
     "text": [
      "231 instances dropped.\n"
     ]
    }
   ],
   "source": [
    "before_top_prob = len(data)\n",
    "data.drop(data[data['top_prob'] < 0.9].index, inplace = True)\n",
    "print(f'{before_top_prob - len(data)} instances dropped.')"
   ]
  },
  {
   "cell_type": "code",
   "execution_count": 73,
   "id": "vietnamese-medium",
   "metadata": {},
   "outputs": [],
   "source": [
    "# Remove stop words\n",
    "stopwords = set(nltk.corpus.stopwords.words('english')) # use set (hash table) data structure for faster lookup\n",
    "data['clean_data'] = data['clean_data'].apply(lambda x: ' '.join([words for words in x.split() if words not in stopwords]))"
   ]
  },
  {
   "cell_type": "code",
   "execution_count": 74,
   "id": "logical-supervision",
   "metadata": {},
   "outputs": [
    {
     "name": "stdout",
     "output_type": "stream",
     "text": [
      "Unprocessed data =====>            Info has been found (+/- 100 pages, and 4.5 MB of .pdf files) Now i have to wait untill our team leader has processed it and learns html.         \n",
      "=================================================================================\n",
      "Cleaned data so far =====> info found pages mb pdf files wait untill team leader processed learns html\n"
     ]
    }
   ],
   "source": [
    "# Check difference: before\n",
    "print(f\"Unprocessed data =====> {data['text'][0]}\")\n",
    "print(81 * \"=\")\n",
    "# After\n",
    "print(f\"Cleaned data so far =====> {data['clean_data'][0]}\")"
   ]
  },
  {
   "cell_type": "code",
   "execution_count": 75,
   "id": "honest-contractor",
   "metadata": {},
   "outputs": [
    {
     "data": {
      "text/plain": [
       "'somehow coca cola way summing things well early flagship jingle like buy world coke tune like teach world sing pretty much summed post woodstock era well add much sales catchy tune korea coke theme urllink stop thinking feel pretty much sums lot korea koreans look relaxed couple stopped thinking started feeling course high regard education math logic deep think many koreans really like work emotion anything else westerners seem sublimate moreso least display different way maybe scratch westerners koreans probably pretty similar context different anyways think losing korea repeat stop thinking feel stop thinking feel stop thinking feel everything alright'"
      ]
     },
     "execution_count": 75,
     "metadata": {},
     "output_type": "execute_result"
    }
   ],
   "source": [
    "data['clean_data'][6]"
   ]
  },
  {
   "cell_type": "code",
   "execution_count": 76,
   "id": "numerical-raise",
   "metadata": {},
   "outputs": [],
   "source": [
    "# Drop columns that are uninformative for writing style (i.e., ID and date)\n",
    "data.drop(['id', 'date'], axis = 1, inplace = True)"
   ]
  },
  {
   "cell_type": "code",
   "execution_count": 77,
   "id": "multiple-productivity",
   "metadata": {},
   "outputs": [],
   "source": [
    "# Add labels for age categories\n",
    "def age_to_cat(age):\n",
    "    '''Returns age category label for given age number.'''\n",
    "    \n",
    "    if 13 <= int(age) <= 17:\n",
    "        return '13-27'\n",
    "    elif 23 <= int(age) <= 27:\n",
    "        return '23-27'\n",
    "    elif 33 <= int(age) <= 47:\n",
    "        return '33-47'\n",
    "    else:\n",
    "        raise ValueError(\"Given age not in one of pre-defined age groups.\")\n",
    "\n",
    "\n",
    "data['age_cat'] = data['age'].apply(age_to_cat)"
   ]
  },
  {
   "cell_type": "code",
   "execution_count": 78,
   "id": "chronic-freight",
   "metadata": {},
   "outputs": [
    {
     "data": {
      "text/html": [
       "<div>\n",
       "<style scoped>\n",
       "    .dataframe tbody tr th:only-of-type {\n",
       "        vertical-align: middle;\n",
       "    }\n",
       "\n",
       "    .dataframe tbody tr th {\n",
       "        vertical-align: top;\n",
       "    }\n",
       "\n",
       "    .dataframe thead th {\n",
       "        text-align: right;\n",
       "    }\n",
       "</style>\n",
       "<table border=\"1\" class=\"dataframe\">\n",
       "  <thead>\n",
       "    <tr style=\"text-align: right;\">\n",
       "      <th></th>\n",
       "      <th>gender</th>\n",
       "      <th>age</th>\n",
       "      <th>topic</th>\n",
       "      <th>sign</th>\n",
       "      <th>text</th>\n",
       "      <th>clean_data</th>\n",
       "      <th>top_50_en</th>\n",
       "      <th>detected_langs</th>\n",
       "      <th>top_lang</th>\n",
       "      <th>top_prob</th>\n",
       "      <th>age_cat</th>\n",
       "    </tr>\n",
       "  </thead>\n",
       "  <tbody>\n",
       "    <tr>\n",
       "      <th>0</th>\n",
       "      <td>male</td>\n",
       "      <td>15</td>\n",
       "      <td>Student</td>\n",
       "      <td>Leo</td>\n",
       "      <td>Info has been found (+/- 100 pages,...</td>\n",
       "      <td>info found pages mb pdf files wait untill team...</td>\n",
       "      <td>True</td>\n",
       "      <td>[en, 0.9999961923054654]</td>\n",
       "      <td>en</td>\n",
       "      <td>0.999997</td>\n",
       "      <td>13-27</td>\n",
       "    </tr>\n",
       "    <tr>\n",
       "      <th>2</th>\n",
       "      <td>male</td>\n",
       "      <td>15</td>\n",
       "      <td>Student</td>\n",
       "      <td>Leo</td>\n",
       "      <td>In het kader van kernfusie op aarde...</td>\n",
       "      <td>het kader van kernfusie op aarde maak je eigen...</td>\n",
       "      <td>True</td>\n",
       "      <td>[en, 0.9999943534574756]</td>\n",
       "      <td>en</td>\n",
       "      <td>0.999996</td>\n",
       "      <td>13-27</td>\n",
       "    </tr>\n",
       "    <tr>\n",
       "      <th>4</th>\n",
       "      <td>male</td>\n",
       "      <td>33</td>\n",
       "      <td>InvestmentBanking</td>\n",
       "      <td>Aquarius</td>\n",
       "      <td>Thanks to Yahoo!'s Toolbar I can ...</td>\n",
       "      <td>thanks yahoo toolbar capture urls popups means...</td>\n",
       "      <td>True</td>\n",
       "      <td>[en, 0.9999980309369944]</td>\n",
       "      <td>en</td>\n",
       "      <td>0.999997</td>\n",
       "      <td>33-47</td>\n",
       "    </tr>\n",
       "    <tr>\n",
       "      <th>5</th>\n",
       "      <td>male</td>\n",
       "      <td>33</td>\n",
       "      <td>InvestmentBanking</td>\n",
       "      <td>Aquarius</td>\n",
       "      <td>I had an interesting conversation...</td>\n",
       "      <td>interesting conversation dad morning talking k...</td>\n",
       "      <td>True</td>\n",
       "      <td>[en, 0.999998055123966]</td>\n",
       "      <td>en</td>\n",
       "      <td>0.999997</td>\n",
       "      <td>33-47</td>\n",
       "    </tr>\n",
       "    <tr>\n",
       "      <th>6</th>\n",
       "      <td>male</td>\n",
       "      <td>33</td>\n",
       "      <td>InvestmentBanking</td>\n",
       "      <td>Aquarius</td>\n",
       "      <td>Somehow Coca-Cola has a way of su...</td>\n",
       "      <td>somehow coca cola way summing things well earl...</td>\n",
       "      <td>True</td>\n",
       "      <td>[en, 0.9999969315236434]</td>\n",
       "      <td>en</td>\n",
       "      <td>0.999997</td>\n",
       "      <td>33-47</td>\n",
       "    </tr>\n",
       "  </tbody>\n",
       "</table>\n",
       "</div>"
      ],
      "text/plain": [
       "  gender age              topic      sign  \\\n",
       "0   male  15            Student       Leo   \n",
       "2   male  15            Student       Leo   \n",
       "4   male  33  InvestmentBanking  Aquarius   \n",
       "5   male  33  InvestmentBanking  Aquarius   \n",
       "6   male  33  InvestmentBanking  Aquarius   \n",
       "\n",
       "                                                text  \\\n",
       "0             Info has been found (+/- 100 pages,...   \n",
       "2             In het kader van kernfusie op aarde...   \n",
       "4               Thanks to Yahoo!'s Toolbar I can ...   \n",
       "5               I had an interesting conversation...   \n",
       "6               Somehow Coca-Cola has a way of su...   \n",
       "\n",
       "                                          clean_data  top_50_en  \\\n",
       "0  info found pages mb pdf files wait untill team...       True   \n",
       "2  het kader van kernfusie op aarde maak je eigen...       True   \n",
       "4  thanks yahoo toolbar capture urls popups means...       True   \n",
       "5  interesting conversation dad morning talking k...       True   \n",
       "6  somehow coca cola way summing things well earl...       True   \n",
       "\n",
       "             detected_langs top_lang  top_prob age_cat  \n",
       "0  [en, 0.9999961923054654]       en  0.999997   13-27  \n",
       "2  [en, 0.9999943534574756]       en  0.999996   13-27  \n",
       "4  [en, 0.9999980309369944]       en  0.999997   33-47  \n",
       "5   [en, 0.999998055123966]       en  0.999997   33-47  \n",
       "6  [en, 0.9999969315236434]       en  0.999997   33-47  "
      ]
     },
     "execution_count": 78,
     "metadata": {},
     "output_type": "execute_result"
    }
   ],
   "source": [
    "data.head()"
   ]
  },
  {
   "cell_type": "code",
   "execution_count": 79,
   "id": "applied-romania",
   "metadata": {},
   "outputs": [],
   "source": [
    "# Merge all possibly interesting labels into one column\n",
    "data['labels'] = data.apply(lambda col: [col['gender'], str(col['age']), col['topic'], col['sign']], axis = 1)\n",
    "\n",
    "# Only keep age as label\n",
    "# data['labels'] = data.apply(lambda col: [str(col['age'])], axis = 1) # TODO: Why keep age as string?\n",
    "# data['labels'] = data.apply(lambda col: [col['age']], axis = 1)\n",
    "data['labels'] = data.apply(lambda col: [col['age_cat']], axis = 1)"
   ]
  },
  {
   "cell_type": "code",
   "execution_count": 80,
   "id": "capable-purchase",
   "metadata": {},
   "outputs": [
    {
     "data": {
      "text/html": [
       "<div>\n",
       "<style scoped>\n",
       "    .dataframe tbody tr th:only-of-type {\n",
       "        vertical-align: middle;\n",
       "    }\n",
       "\n",
       "    .dataframe tbody tr th {\n",
       "        vertical-align: top;\n",
       "    }\n",
       "\n",
       "    .dataframe thead th {\n",
       "        text-align: right;\n",
       "    }\n",
       "</style>\n",
       "<table border=\"1\" class=\"dataframe\">\n",
       "  <thead>\n",
       "    <tr style=\"text-align: right;\">\n",
       "      <th></th>\n",
       "      <th>gender</th>\n",
       "      <th>age</th>\n",
       "      <th>topic</th>\n",
       "      <th>sign</th>\n",
       "      <th>text</th>\n",
       "      <th>clean_data</th>\n",
       "      <th>top_50_en</th>\n",
       "      <th>detected_langs</th>\n",
       "      <th>top_lang</th>\n",
       "      <th>top_prob</th>\n",
       "      <th>age_cat</th>\n",
       "      <th>labels</th>\n",
       "    </tr>\n",
       "  </thead>\n",
       "  <tbody>\n",
       "    <tr>\n",
       "      <th>0</th>\n",
       "      <td>male</td>\n",
       "      <td>15</td>\n",
       "      <td>Student</td>\n",
       "      <td>Leo</td>\n",
       "      <td>Info has been found (+/- 100 pages,...</td>\n",
       "      <td>info found pages mb pdf files wait untill team...</td>\n",
       "      <td>True</td>\n",
       "      <td>[en, 0.9999961923054654]</td>\n",
       "      <td>en</td>\n",
       "      <td>0.999997</td>\n",
       "      <td>13-27</td>\n",
       "      <td>[13-27]</td>\n",
       "    </tr>\n",
       "    <tr>\n",
       "      <th>2</th>\n",
       "      <td>male</td>\n",
       "      <td>15</td>\n",
       "      <td>Student</td>\n",
       "      <td>Leo</td>\n",
       "      <td>In het kader van kernfusie op aarde...</td>\n",
       "      <td>het kader van kernfusie op aarde maak je eigen...</td>\n",
       "      <td>True</td>\n",
       "      <td>[en, 0.9999943534574756]</td>\n",
       "      <td>en</td>\n",
       "      <td>0.999996</td>\n",
       "      <td>13-27</td>\n",
       "      <td>[13-27]</td>\n",
       "    </tr>\n",
       "    <tr>\n",
       "      <th>4</th>\n",
       "      <td>male</td>\n",
       "      <td>33</td>\n",
       "      <td>InvestmentBanking</td>\n",
       "      <td>Aquarius</td>\n",
       "      <td>Thanks to Yahoo!'s Toolbar I can ...</td>\n",
       "      <td>thanks yahoo toolbar capture urls popups means...</td>\n",
       "      <td>True</td>\n",
       "      <td>[en, 0.9999980309369944]</td>\n",
       "      <td>en</td>\n",
       "      <td>0.999997</td>\n",
       "      <td>33-47</td>\n",
       "      <td>[33-47]</td>\n",
       "    </tr>\n",
       "    <tr>\n",
       "      <th>5</th>\n",
       "      <td>male</td>\n",
       "      <td>33</td>\n",
       "      <td>InvestmentBanking</td>\n",
       "      <td>Aquarius</td>\n",
       "      <td>I had an interesting conversation...</td>\n",
       "      <td>interesting conversation dad morning talking k...</td>\n",
       "      <td>True</td>\n",
       "      <td>[en, 0.999998055123966]</td>\n",
       "      <td>en</td>\n",
       "      <td>0.999997</td>\n",
       "      <td>33-47</td>\n",
       "      <td>[33-47]</td>\n",
       "    </tr>\n",
       "    <tr>\n",
       "      <th>6</th>\n",
       "      <td>male</td>\n",
       "      <td>33</td>\n",
       "      <td>InvestmentBanking</td>\n",
       "      <td>Aquarius</td>\n",
       "      <td>Somehow Coca-Cola has a way of su...</td>\n",
       "      <td>somehow coca cola way summing things well earl...</td>\n",
       "      <td>True</td>\n",
       "      <td>[en, 0.9999969315236434]</td>\n",
       "      <td>en</td>\n",
       "      <td>0.999997</td>\n",
       "      <td>33-47</td>\n",
       "      <td>[33-47]</td>\n",
       "    </tr>\n",
       "  </tbody>\n",
       "</table>\n",
       "</div>"
      ],
      "text/plain": [
       "  gender age              topic      sign  \\\n",
       "0   male  15            Student       Leo   \n",
       "2   male  15            Student       Leo   \n",
       "4   male  33  InvestmentBanking  Aquarius   \n",
       "5   male  33  InvestmentBanking  Aquarius   \n",
       "6   male  33  InvestmentBanking  Aquarius   \n",
       "\n",
       "                                                text  \\\n",
       "0             Info has been found (+/- 100 pages,...   \n",
       "2             In het kader van kernfusie op aarde...   \n",
       "4               Thanks to Yahoo!'s Toolbar I can ...   \n",
       "5               I had an interesting conversation...   \n",
       "6               Somehow Coca-Cola has a way of su...   \n",
       "\n",
       "                                          clean_data  top_50_en  \\\n",
       "0  info found pages mb pdf files wait untill team...       True   \n",
       "2  het kader van kernfusie op aarde maak je eigen...       True   \n",
       "4  thanks yahoo toolbar capture urls popups means...       True   \n",
       "5  interesting conversation dad morning talking k...       True   \n",
       "6  somehow coca cola way summing things well earl...       True   \n",
       "\n",
       "             detected_langs top_lang  top_prob age_cat   labels  \n",
       "0  [en, 0.9999961923054654]       en  0.999997   13-27  [13-27]  \n",
       "2  [en, 0.9999943534574756]       en  0.999996   13-27  [13-27]  \n",
       "4  [en, 0.9999980309369944]       en  0.999997   33-47  [33-47]  \n",
       "5   [en, 0.999998055123966]       en  0.999997   33-47  [33-47]  \n",
       "6  [en, 0.9999969315236434]       en  0.999997   33-47  [33-47]  "
      ]
     },
     "execution_count": 80,
     "metadata": {},
     "output_type": "execute_result"
    }
   ],
   "source": [
    "data.head()"
   ]
  },
  {
   "cell_type": "code",
   "execution_count": 81,
   "id": "adopted-weekly",
   "metadata": {},
   "outputs": [],
   "source": [
    "# Reduce dataframe to only contain cleaned blogs and list of labels\n",
    "data = data[['clean_data', 'labels']]\n"
   ]
  },
  {
   "cell_type": "code",
   "execution_count": 82,
   "id": "imported-conducting",
   "metadata": {},
   "outputs": [
    {
     "data": {
      "text/html": [
       "<div>\n",
       "<style scoped>\n",
       "    .dataframe tbody tr th:only-of-type {\n",
       "        vertical-align: middle;\n",
       "    }\n",
       "\n",
       "    .dataframe tbody tr th {\n",
       "        vertical-align: top;\n",
       "    }\n",
       "\n",
       "    .dataframe thead th {\n",
       "        text-align: right;\n",
       "    }\n",
       "</style>\n",
       "<table border=\"1\" class=\"dataframe\">\n",
       "  <thead>\n",
       "    <tr style=\"text-align: right;\">\n",
       "      <th></th>\n",
       "      <th>clean_data</th>\n",
       "      <th>labels</th>\n",
       "    </tr>\n",
       "  </thead>\n",
       "  <tbody>\n",
       "    <tr>\n",
       "      <th>0</th>\n",
       "      <td>info found pages mb pdf files wait untill team...</td>\n",
       "      <td>[13-27]</td>\n",
       "    </tr>\n",
       "    <tr>\n",
       "      <th>2</th>\n",
       "      <td>het kader van kernfusie op aarde maak je eigen...</td>\n",
       "      <td>[13-27]</td>\n",
       "    </tr>\n",
       "    <tr>\n",
       "      <th>4</th>\n",
       "      <td>thanks yahoo toolbar capture urls popups means...</td>\n",
       "      <td>[33-47]</td>\n",
       "    </tr>\n",
       "    <tr>\n",
       "      <th>5</th>\n",
       "      <td>interesting conversation dad morning talking k...</td>\n",
       "      <td>[33-47]</td>\n",
       "    </tr>\n",
       "    <tr>\n",
       "      <th>6</th>\n",
       "      <td>somehow coca cola way summing things well earl...</td>\n",
       "      <td>[33-47]</td>\n",
       "    </tr>\n",
       "  </tbody>\n",
       "</table>\n",
       "</div>"
      ],
      "text/plain": [
       "                                          clean_data   labels\n",
       "0  info found pages mb pdf files wait untill team...  [13-27]\n",
       "2  het kader van kernfusie op aarde maak je eigen...  [13-27]\n",
       "4  thanks yahoo toolbar capture urls popups means...  [33-47]\n",
       "5  interesting conversation dad morning talking k...  [33-47]\n",
       "6  somehow coca cola way summing things well earl...  [33-47]"
      ]
     },
     "execution_count": 82,
     "metadata": {},
     "output_type": "execute_result"
    }
   ],
   "source": [
    "data.head()"
   ]
  },
  {
   "cell_type": "markdown",
   "id": "violent-somewhere",
   "metadata": {},
   "source": [
    "## Classification"
   ]
  },
  {
   "cell_type": "code",
   "execution_count": 83,
   "id": "functional-atmosphere",
   "metadata": {},
   "outputs": [],
   "source": [
    "# Split data into features/ X and labels / Y \n",
    "X = data['clean_data']\n",
    "Y = data['labels']"
   ]
  },
  {
   "cell_type": "markdown",
   "id": "minute-algorithm",
   "metadata": {},
   "source": [
    "### Bi-gram and tri-gram models"
   ]
  },
  {
   "cell_type": "code",
   "execution_count": 84,
   "id": "functional-temple",
   "metadata": {},
   "outputs": [],
   "source": [
    "# bi-gram model\n",
    "vectorizer = CountVectorizer(binary = True, ngram_range = (1, MAX_N_GRAM))\n",
    "\n",
    "# fit model\n",
    "X = vectorizer.fit_transform(X)"
   ]
  },
  {
   "cell_type": "code",
   "execution_count": 85,
   "id": "aquatic-bottom",
   "metadata": {},
   "outputs": [
    {
     "name": "stdout",
     "output_type": "stream",
     "text": [
      "['aa', 'aa amazing', 'aa compared', 'aa keeps', 'aa nice', 'aa sd', 'aaa', 'aaa come', 'aaa discount', 'aaa joe']\n"
     ]
    }
   ],
   "source": [
    "# check out a sample of the uni- and bigrams\n",
    "print(vectorizer.get_feature_names()[:10])"
   ]
  },
  {
   "cell_type": "code",
   "execution_count": 86,
   "id": "sunset-assumption",
   "metadata": {},
   "outputs": [],
   "source": [
    "# Get label counts\n",
    "label_counts = {}\n",
    "\n",
    "for labels in data.labels.values:\n",
    "    for label in labels:\n",
    "        if label in label_counts:\n",
    "            label_counts[label] += 1\n",
    "        else:\n",
    "            label_counts[label] = 1"
   ]
  },
  {
   "cell_type": "code",
   "execution_count": 87,
   "id": "logical-ozone",
   "metadata": {},
   "outputs": [
    {
     "data": {
      "text/plain": [
       "{'13-27': 2326, '33-47': 4439, '23-27': 2403}"
      ]
     },
     "execution_count": 87,
     "metadata": {},
     "output_type": "execute_result"
    }
   ],
   "source": [
    "label_counts"
   ]
  },
  {
   "cell_type": "code",
   "execution_count": 88,
   "id": "sophisticated-deputy",
   "metadata": {},
   "outputs": [],
   "source": [
    "# Binarize the labels for prediction \n",
    "binarizer = MultiLabelBinarizer(classes = sorted(label_counts.keys()))"
   ]
  },
  {
   "cell_type": "code",
   "execution_count": 89,
   "id": "bigger-associate",
   "metadata": {},
   "outputs": [],
   "source": [
    "Y = binarizer.fit_transform(data.labels)"
   ]
  },
  {
   "cell_type": "code",
   "execution_count": 90,
   "id": "wanted-haven",
   "metadata": {},
   "outputs": [
    {
     "data": {
      "text/plain": [
       "dict_keys(['13-27', '33-47', '23-27'])"
      ]
     },
     "execution_count": 90,
     "metadata": {},
     "output_type": "execute_result"
    }
   ],
   "source": [
    "label_counts.keys()"
   ]
  },
  {
   "cell_type": "code",
   "execution_count": 91,
   "id": "generic-slave",
   "metadata": {},
   "outputs": [],
   "source": [
    "# Split data into train and test sets\n",
    "X_train, X_test, Y_train, Y_test = train_test_split(X, Y, test_size = TEST_SPLIT)"
   ]
  },
  {
   "cell_type": "code",
   "execution_count": 92,
   "id": "arctic-parker",
   "metadata": {},
   "outputs": [
    {
     "data": {
      "text/plain": [
       "OneVsRestClassifier(estimator=LogisticRegression(C=1.0, class_weight=None,\n",
       "                                                 dual=False, fit_intercept=True,\n",
       "                                                 intercept_scaling=1,\n",
       "                                                 l1_ratio=None, max_iter=100,\n",
       "                                                 multi_class='ovr', n_jobs=None,\n",
       "                                                 penalty='l2',\n",
       "                                                 random_state=None,\n",
       "                                                 solver='lbfgs', tol=0.0001,\n",
       "                                                 verbose=0, warm_start=False),\n",
       "                    n_jobs=None)"
      ]
     },
     "execution_count": 92,
     "metadata": {},
     "output_type": "execute_result"
    }
   ],
   "source": [
    "# Fit logistic regression model\n",
    "model = LogisticRegression(solver = 'lbfgs', multi_class='ovr') #TODO: different solveR?\n",
    "model = OneVsRestClassifier(model) # TODO: Change this  to multi-class classifier for age cats\n",
    "model.fit(X_train, Y_train)"
   ]
  },
  {
   "cell_type": "code",
   "execution_count": 93,
   "id": "nonprofit-depression",
   "metadata": {},
   "outputs": [],
   "source": [
    "# make predictions on test set\n",
    "Y_pred = model.predict(X_test)"
   ]
  },
  {
   "cell_type": "code",
   "execution_count": 94,
   "id": "narrative-parade",
   "metadata": {},
   "outputs": [],
   "source": [
    "Y_pred_inversed = binarizer.inverse_transform(Y_pred)\n",
    "Y_test_inversed = binarizer.inverse_transform(Y_test)"
   ]
  },
  {
   "cell_type": "code",
   "execution_count": 95,
   "id": "waiting-irish",
   "metadata": {},
   "outputs": [],
   "source": [
    "# Evaluate performance\n",
    "def print_evaluation_scores(labels, preds):\n",
    "    print(f\"Accuracy: {accuracy_score(labels, preds)}\")\n",
    "    print(f\"F1 score: {f1_score(labels, preds, average = 'micro')}\")\n",
    "    print(f\"Average precision: {average_precision_score(labels, preds, average = 'micro')}\")\n",
    "    print(f\"Average recall: {recall_score(labels, preds, average = 'micro')}\")"
   ]
  },
  {
   "cell_type": "code",
   "execution_count": 96,
   "id": "thirty-entry",
   "metadata": {},
   "outputs": [
    {
     "name": "stdout",
     "output_type": "stream",
     "text": [
      "Accuracy: 0.6406761177753544\n",
      "F1 score: 0.7206142941523922\n",
      "Average precision: 0.634507789107616\n",
      "Average recall: 0.6652126499454744\n"
     ]
    }
   ],
   "source": [
    "print_evaluation_scores(Y_test, Y_pred)"
   ]
  },
  {
   "cell_type": "code",
   "execution_count": null,
   "id": "divine-knowing",
   "metadata": {},
   "outputs": [],
   "source": []
  }
 ],
 "metadata": {
  "kernelspec": {
   "display_name": "Python 3",
   "language": "python",
   "name": "python3"
  },
  "language_info": {
   "codemirror_mode": {
    "name": "ipython",
    "version": 3
   },
   "file_extension": ".py",
   "mimetype": "text/x-python",
   "name": "python",
   "nbconvert_exporter": "python",
   "pygments_lexer": "ipython3",
   "version": "3.7.10"
  }
 },
 "nbformat": 4,
 "nbformat_minor": 5
}
