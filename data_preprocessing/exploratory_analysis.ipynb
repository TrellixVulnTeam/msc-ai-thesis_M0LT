{
 "cells": [
  {
   "cell_type": "markdown",
   "id": "stock-concern",
   "metadata": {},
   "source": [
    "# Exploratory data analysis & Simple Classifiers\n",
    "## Date created: 1 March 2021\n",
    "### Quick exploration of datasets considered for thesis research.\n",
    "### Currently contains analyses of: Blog Authorship Corpus"
   ]
  },
  {
   "cell_type": "code",
   "execution_count": 1,
   "id": "boxed-pocket",
   "metadata": {},
   "outputs": [],
   "source": [
    "%matplotlib inline\n",
    "\n",
    "# Import statements\n",
    "import os # for directory operations\n",
    "import numpy as np # for numerical/linear algebra methods\n",
    "import pandas as pd # for data(frame) processing\n",
    "import pdb # for debudding\n",
    "import matplotlib.pyplot as plt # for plotting\n",
    "import seaborn as sns # for cool plotting\n",
    "import re # for regular expression\n",
    "import nltk # natural language processing toolkit\n",
    "from sklearn.feature_extraction.text import CountVectorizer\n",
    "from sklearn.preprocessing import MultiLabelBinarizer\n",
    "from sklearn.model_selection import train_test_split\n",
    "from sklearn.multiclass import OneVsRestClassifier\n",
    "from sklearn.linear_model import LogisticRegression\n",
    "from sklearn.metrics import accuracy_score\n",
    "from sklearn.metrics import f1_score\n",
    "from sklearn.metrics import average_precision_score\n",
    "from sklearn.metrics import recall_score\n",
    "from langdetect import detect, detect_langs # for language detection\n"
   ]
  },
  {
   "cell_type": "code",
   "execution_count": 2,
   "id": "suited-acrobat",
   "metadata": {},
   "outputs": [],
   "source": [
    "# TODO: write specification scheme for type of \"simple\" classifier to build and test?\n",
    "# Maybe just have the notebook build, train, and test all simple ones, i.e., Logit+ n-grams, Logit + grams + linguistic features, etc.\n",
    "# Specifiy trian-test splits\n",
    "# What else? --> Label to predict (e.g., age cat, age number, gender, astrological sign, topic)\n",
    "SEED = 420\n",
    "MAX_N_GRAM = 2\n",
    "TEST_SPLIT = 0.2"
   ]
  },
  {
   "cell_type": "code",
   "execution_count": 3,
   "id": "worst-surfing",
   "metadata": {},
   "outputs": [],
   "source": [
    "# Set seed for reproducibility \n",
    "np.random.seed(SEED)"
   ]
  },
  {
   "cell_type": "code",
   "execution_count": 4,
   "id": "clinical-paradise",
   "metadata": {},
   "outputs": [
    {
     "name": "stdout",
     "output_type": "stream",
     "text": [
      "../data/blogs_kaggle/.DS_Store\n",
      "../data/blogs_kaggle/blogtext.csv\n"
     ]
    }
   ],
   "source": [
    "# Get pathname of dataset\n",
    "for dirname, _, filenames in os.walk(\"../data/blogs_kaggle\"):\n",
    "    for filename in filenames:\n",
    "        print(os.path.join(dirname, filename))"
   ]
  },
  {
   "cell_type": "code",
   "execution_count": 5,
   "id": "conscious-certificate",
   "metadata": {},
   "outputs": [],
   "source": [
    "# Read and load dataset\n",
    "data = pd.read_csv(\"../data/blogs_kaggle/blogtext.csv\")"
   ]
  },
  {
   "cell_type": "code",
   "execution_count": 6,
   "id": "centered-producer",
   "metadata": {},
   "outputs": [
    {
     "data": {
      "text/html": [
       "<div>\n",
       "<style scoped>\n",
       "    .dataframe tbody tr th:only-of-type {\n",
       "        vertical-align: middle;\n",
       "    }\n",
       "\n",
       "    .dataframe tbody tr th {\n",
       "        vertical-align: top;\n",
       "    }\n",
       "\n",
       "    .dataframe thead th {\n",
       "        text-align: right;\n",
       "    }\n",
       "</style>\n",
       "<table border=\"1\" class=\"dataframe\">\n",
       "  <thead>\n",
       "    <tr style=\"text-align: right;\">\n",
       "      <th></th>\n",
       "      <th>id</th>\n",
       "      <th>gender</th>\n",
       "      <th>age</th>\n",
       "      <th>topic</th>\n",
       "      <th>sign</th>\n",
       "      <th>date</th>\n",
       "      <th>text</th>\n",
       "    </tr>\n",
       "  </thead>\n",
       "  <tbody>\n",
       "    <tr>\n",
       "      <th>0</th>\n",
       "      <td>2059027</td>\n",
       "      <td>male</td>\n",
       "      <td>15</td>\n",
       "      <td>Student</td>\n",
       "      <td>Leo</td>\n",
       "      <td>14,May,2004</td>\n",
       "      <td>Info has been found (+/- 100 pages,...</td>\n",
       "    </tr>\n",
       "    <tr>\n",
       "      <th>1</th>\n",
       "      <td>2059027</td>\n",
       "      <td>male</td>\n",
       "      <td>15</td>\n",
       "      <td>Student</td>\n",
       "      <td>Leo</td>\n",
       "      <td>13,May,2004</td>\n",
       "      <td>These are the team members:   Drewe...</td>\n",
       "    </tr>\n",
       "    <tr>\n",
       "      <th>2</th>\n",
       "      <td>2059027</td>\n",
       "      <td>male</td>\n",
       "      <td>15</td>\n",
       "      <td>Student</td>\n",
       "      <td>Leo</td>\n",
       "      <td>12,May,2004</td>\n",
       "      <td>In het kader van kernfusie op aarde...</td>\n",
       "    </tr>\n",
       "    <tr>\n",
       "      <th>3</th>\n",
       "      <td>2059027</td>\n",
       "      <td>male</td>\n",
       "      <td>15</td>\n",
       "      <td>Student</td>\n",
       "      <td>Leo</td>\n",
       "      <td>12,May,2004</td>\n",
       "      <td>testing!!!  testing!!!</td>\n",
       "    </tr>\n",
       "    <tr>\n",
       "      <th>4</th>\n",
       "      <td>3581210</td>\n",
       "      <td>male</td>\n",
       "      <td>33</td>\n",
       "      <td>InvestmentBanking</td>\n",
       "      <td>Aquarius</td>\n",
       "      <td>11,June,2004</td>\n",
       "      <td>Thanks to Yahoo!'s Toolbar I can ...</td>\n",
       "    </tr>\n",
       "    <tr>\n",
       "      <th>5</th>\n",
       "      <td>3581210</td>\n",
       "      <td>male</td>\n",
       "      <td>33</td>\n",
       "      <td>InvestmentBanking</td>\n",
       "      <td>Aquarius</td>\n",
       "      <td>10,June,2004</td>\n",
       "      <td>I had an interesting conversation...</td>\n",
       "    </tr>\n",
       "    <tr>\n",
       "      <th>6</th>\n",
       "      <td>3581210</td>\n",
       "      <td>male</td>\n",
       "      <td>33</td>\n",
       "      <td>InvestmentBanking</td>\n",
       "      <td>Aquarius</td>\n",
       "      <td>10,June,2004</td>\n",
       "      <td>Somehow Coca-Cola has a way of su...</td>\n",
       "    </tr>\n",
       "    <tr>\n",
       "      <th>7</th>\n",
       "      <td>3581210</td>\n",
       "      <td>male</td>\n",
       "      <td>33</td>\n",
       "      <td>InvestmentBanking</td>\n",
       "      <td>Aquarius</td>\n",
       "      <td>10,June,2004</td>\n",
       "      <td>If anything, Korea is a country o...</td>\n",
       "    </tr>\n",
       "    <tr>\n",
       "      <th>8</th>\n",
       "      <td>3581210</td>\n",
       "      <td>male</td>\n",
       "      <td>33</td>\n",
       "      <td>InvestmentBanking</td>\n",
       "      <td>Aquarius</td>\n",
       "      <td>10,June,2004</td>\n",
       "      <td>Take a read of this news article ...</td>\n",
       "    </tr>\n",
       "    <tr>\n",
       "      <th>9</th>\n",
       "      <td>3581210</td>\n",
       "      <td>male</td>\n",
       "      <td>33</td>\n",
       "      <td>InvestmentBanking</td>\n",
       "      <td>Aquarius</td>\n",
       "      <td>09,June,2004</td>\n",
       "      <td>I surf the English news sites a l...</td>\n",
       "    </tr>\n",
       "    <tr>\n",
       "      <th>10</th>\n",
       "      <td>3581210</td>\n",
       "      <td>male</td>\n",
       "      <td>33</td>\n",
       "      <td>InvestmentBanking</td>\n",
       "      <td>Aquarius</td>\n",
       "      <td>09,June,2004</td>\n",
       "      <td>Ah, the Korean language...it look...</td>\n",
       "    </tr>\n",
       "    <tr>\n",
       "      <th>11</th>\n",
       "      <td>3581210</td>\n",
       "      <td>male</td>\n",
       "      <td>33</td>\n",
       "      <td>InvestmentBanking</td>\n",
       "      <td>Aquarius</td>\n",
       "      <td>09,June,2004</td>\n",
       "      <td>If you click on my profile you'll...</td>\n",
       "    </tr>\n",
       "    <tr>\n",
       "      <th>12</th>\n",
       "      <td>3581210</td>\n",
       "      <td>male</td>\n",
       "      <td>33</td>\n",
       "      <td>InvestmentBanking</td>\n",
       "      <td>Aquarius</td>\n",
       "      <td>09,June,2004</td>\n",
       "      <td>Last night was pretty fun...mostl...</td>\n",
       "    </tr>\n",
       "    <tr>\n",
       "      <th>13</th>\n",
       "      <td>3581210</td>\n",
       "      <td>male</td>\n",
       "      <td>33</td>\n",
       "      <td>InvestmentBanking</td>\n",
       "      <td>Aquarius</td>\n",
       "      <td>09,June,2004</td>\n",
       "      <td>There is so much that is differen...</td>\n",
       "    </tr>\n",
       "    <tr>\n",
       "      <th>14</th>\n",
       "      <td>3581210</td>\n",
       "      <td>male</td>\n",
       "      <td>33</td>\n",
       "      <td>InvestmentBanking</td>\n",
       "      <td>Aquarius</td>\n",
       "      <td>09,June,2004</td>\n",
       "      <td>urlLink    Here it is, the super...</td>\n",
       "    </tr>\n",
       "  </tbody>\n",
       "</table>\n",
       "</div>"
      ],
      "text/plain": [
       "         id gender  age              topic      sign          date  \\\n",
       "0   2059027   male   15            Student       Leo   14,May,2004   \n",
       "1   2059027   male   15            Student       Leo   13,May,2004   \n",
       "2   2059027   male   15            Student       Leo   12,May,2004   \n",
       "3   2059027   male   15            Student       Leo   12,May,2004   \n",
       "4   3581210   male   33  InvestmentBanking  Aquarius  11,June,2004   \n",
       "5   3581210   male   33  InvestmentBanking  Aquarius  10,June,2004   \n",
       "6   3581210   male   33  InvestmentBanking  Aquarius  10,June,2004   \n",
       "7   3581210   male   33  InvestmentBanking  Aquarius  10,June,2004   \n",
       "8   3581210   male   33  InvestmentBanking  Aquarius  10,June,2004   \n",
       "9   3581210   male   33  InvestmentBanking  Aquarius  09,June,2004   \n",
       "10  3581210   male   33  InvestmentBanking  Aquarius  09,June,2004   \n",
       "11  3581210   male   33  InvestmentBanking  Aquarius  09,June,2004   \n",
       "12  3581210   male   33  InvestmentBanking  Aquarius  09,June,2004   \n",
       "13  3581210   male   33  InvestmentBanking  Aquarius  09,June,2004   \n",
       "14  3581210   male   33  InvestmentBanking  Aquarius  09,June,2004   \n",
       "\n",
       "                                                 text  \n",
       "0              Info has been found (+/- 100 pages,...  \n",
       "1              These are the team members:   Drewe...  \n",
       "2              In het kader van kernfusie op aarde...  \n",
       "3                    testing!!!  testing!!!            \n",
       "4                Thanks to Yahoo!'s Toolbar I can ...  \n",
       "5                I had an interesting conversation...  \n",
       "6                Somehow Coca-Cola has a way of su...  \n",
       "7                If anything, Korea is a country o...  \n",
       "8                Take a read of this news article ...  \n",
       "9                I surf the English news sites a l...  \n",
       "10               Ah, the Korean language...it look...  \n",
       "11               If you click on my profile you'll...  \n",
       "12               Last night was pretty fun...mostl...  \n",
       "13               There is so much that is differen...  \n",
       "14                urlLink    Here it is, the super...  "
      ]
     },
     "execution_count": 6,
     "metadata": {},
     "output_type": "execute_result"
    }
   ],
   "source": [
    "# Quick sample/overview of dataframe structure\n",
    "data.head(15)\n",
    "# TODO: Remove non-English texts --> See row 2 --> See DialoGPT paper for tips on filtering out languages"
   ]
  },
  {
   "cell_type": "code",
   "execution_count": 7,
   "id": "antique-consortium",
   "metadata": {},
   "outputs": [
    {
     "data": {
      "text/plain": [
       "id        False\n",
       "gender    False\n",
       "age       False\n",
       "topic     False\n",
       "sign      False\n",
       "date      False\n",
       "text      False\n",
       "dtype: bool"
      ]
     },
     "execution_count": 7,
     "metadata": {},
     "output_type": "execute_result"
    }
   ],
   "source": [
    "# Check for missing values/NAs in all variables\n",
    "data.isna().any()"
   ]
  },
  {
   "cell_type": "code",
   "execution_count": 8,
   "id": "committed-twist",
   "metadata": {},
   "outputs": [
    {
     "name": "stdout",
     "output_type": "stream",
     "text": [
      "<class 'pandas.core.frame.DataFrame'>\n",
      "RangeIndex: 681284 entries, 0 to 681283\n",
      "Data columns (total 7 columns):\n",
      " #   Column  Non-Null Count   Dtype \n",
      "---  ------  --------------   ----- \n",
      " 0   id      681284 non-null  int64 \n",
      " 1   gender  681284 non-null  object\n",
      " 2   age     681284 non-null  int64 \n",
      " 3   topic   681284 non-null  object\n",
      " 4   sign    681284 non-null  object\n",
      " 5   date    681284 non-null  object\n",
      " 6   text    681284 non-null  object\n",
      "dtypes: int64(2), object(5)\n",
      "memory usage: 36.4+ MB\n"
     ]
    }
   ],
   "source": [
    "\n",
    "data.info()"
   ]
  },
  {
   "cell_type": "code",
   "execution_count": 9,
   "id": "quantitative-underwear",
   "metadata": {},
   "outputs": [],
   "source": [
    "# TODO: comment out this cell when running analyses on full dataset.\n",
    "# Take subset of data for faster testing\n",
    "data = data.head(100000)"
   ]
  },
  {
   "cell_type": "code",
   "execution_count": 10,
   "id": "strange-florida",
   "metadata": {},
   "outputs": [
    {
     "data": {
      "text/plain": [
       "(100000, 7)"
      ]
     },
     "execution_count": 10,
     "metadata": {},
     "output_type": "execute_result"
    }
   ],
   "source": [
    "# Shape (i.e., number of datapoints and variables, respectively) of dataframe\n",
    "data.shape"
   ]
  },
  {
   "cell_type": "markdown",
   "id": "qualified-drive",
   "metadata": {},
   "source": [
    "## Exploratory analysis"
   ]
  },
  {
   "cell_type": "code",
   "execution_count": 11,
   "id": "copyrighted-wagon",
   "metadata": {},
   "outputs": [
    {
     "data": {
      "text/html": [
       "<div>\n",
       "<style scoped>\n",
       "    .dataframe tbody tr th:only-of-type {\n",
       "        vertical-align: middle;\n",
       "    }\n",
       "\n",
       "    .dataframe tbody tr th {\n",
       "        vertical-align: top;\n",
       "    }\n",
       "\n",
       "    .dataframe thead th {\n",
       "        text-align: right;\n",
       "    }\n",
       "</style>\n",
       "<table border=\"1\" class=\"dataframe\">\n",
       "  <thead>\n",
       "    <tr style=\"text-align: right;\">\n",
       "      <th></th>\n",
       "      <th>gender</th>\n",
       "      <th>topic</th>\n",
       "      <th>sign</th>\n",
       "      <th>date</th>\n",
       "      <th>text</th>\n",
       "    </tr>\n",
       "  </thead>\n",
       "  <tbody>\n",
       "    <tr>\n",
       "      <th>count</th>\n",
       "      <td>100000</td>\n",
       "      <td>100000</td>\n",
       "      <td>100000</td>\n",
       "      <td>100000</td>\n",
       "      <td>100000</td>\n",
       "    </tr>\n",
       "    <tr>\n",
       "      <th>unique</th>\n",
       "      <td>2</td>\n",
       "      <td>40</td>\n",
       "      <td>12</td>\n",
       "      <td>1564</td>\n",
       "      <td>97566</td>\n",
       "    </tr>\n",
       "    <tr>\n",
       "      <th>top</th>\n",
       "      <td>male</td>\n",
       "      <td>indUnk</td>\n",
       "      <td>Aries</td>\n",
       "      <td>05,August,2004</td>\n",
       "      <td>urlLink</td>\n",
       "    </tr>\n",
       "    <tr>\n",
       "      <th>freq</th>\n",
       "      <td>53358</td>\n",
       "      <td>33097</td>\n",
       "      <td>10637</td>\n",
       "      <td>3087</td>\n",
       "      <td>209</td>\n",
       "    </tr>\n",
       "  </tbody>\n",
       "</table>\n",
       "</div>"
      ],
      "text/plain": [
       "        gender   topic    sign            date                      text\n",
       "count   100000  100000  100000          100000                    100000\n",
       "unique       2      40      12            1564                     97566\n",
       "top       male  indUnk   Aries  05,August,2004          urlLink         \n",
       "freq     53358   33097   10637            3087                       209"
      ]
     },
     "execution_count": 11,
     "metadata": {},
     "output_type": "execute_result"
    }
   ],
   "source": [
    "data.describe(include = ['object', 'bool'])"
   ]
  },
  {
   "cell_type": "code",
   "execution_count": 12,
   "id": "superior-depth",
   "metadata": {},
   "outputs": [],
   "source": [
    "# Convert all columns (except ID and date) to object type\n",
    "data['age'] = data['age'].astype(object)"
   ]
  },
  {
   "cell_type": "code",
   "execution_count": 13,
   "id": "detected-investing",
   "metadata": {},
   "outputs": [
    {
     "data": {
      "text/plain": [
       "Text(0.5, 1.0, 'Unconditional Age Distribution')"
      ]
     },
     "execution_count": 13,
     "metadata": {},
     "output_type": "execute_result"
    },
    {
     "data": {
      "image/png": "[encoded data removed]",
      "text/plain": [
       "<Figure size 432x288 with 1 Axes>"
      ]
     },
     "metadata": {
      "needs_background": "light"
     },
     "output_type": "display_data"
    }
   ],
   "source": [
    "# Age distribution, unconditional\n",
    "sns.histplot(data, x = \"age\", binwidth = 3, stat = \"probability\")\n",
    "plt.title(\"Unconditional Age Distribution\")"
   ]
  },
  {
   "cell_type": "code",
   "execution_count": 14,
   "id": "descending-engineering",
   "metadata": {},
   "outputs": [
    {
     "data": {
      "text/plain": [
       "Text(0.5, 1.0, 'Age Distribution, Conditioned On Gender')"
      ]
     },
     "execution_count": 14,
     "metadata": {},
     "output_type": "execute_result"
    },
    {
     "data": {
      "image/png": "[encoded data removed]",
      "text/plain": [
       "<Figure size 432x288 with 1 Axes>"
      ]
     },
     "metadata": {
      "needs_background": "light"
     },
     "output_type": "display_data"
    }
   ],
   "source": [
    "# Age distribution, conditioned on gender\n",
    "sns.histplot(data, x = \"age\", hue = \"gender\", binwidth = 3, stat = \"probability\")\n",
    "plt.title(\"Age Distribution, Conditioned On Gender\")"
   ]
  },
  {
   "cell_type": "code",
   "execution_count": 15,
   "id": "electrical-check",
   "metadata": {},
   "outputs": [
    {
     "data": {
      "text/plain": [
       "Text(0.5, 1.0, 'Distribution of Astrological Signs')"
      ]
     },
     "execution_count": 15,
     "metadata": {},
     "output_type": "execute_result"
    },
    {
     "data": {
      "image/png": "[encoded data removed]",
      "text/plain": [
       "<Figure size 432x288 with 1 Axes>"
      ]
     },
     "metadata": {
      "needs_background": "light"
     },
     "output_type": "display_data"
    }
   ],
   "source": [
    "sns.histplot(data, x = 'sign', stat = 'probability')\n",
    "plt.xticks(rotation=45)\n",
    "plt.title(\"Distribution of Astrological Signs\")"
   ]
  },
  {
   "cell_type": "code",
   "execution_count": 16,
   "id": "renewable-joyce",
   "metadata": {},
   "outputs": [
    {
     "data": {
      "text/plain": [
       "Text(0.5, 1.0, 'Distribution of Topics')"
      ]
     },
     "execution_count": 16,
     "metadata": {},
     "output_type": "execute_result"
    },
    {
     "data": {
      "image/png": "[encoded data removed]",
      "text/plain": [
       "<Figure size 432x288 with 1 Axes>"
      ]
     },
     "metadata": {
      "needs_background": "light"
     },
     "output_type": "display_data"
    }
   ],
   "source": [
    "sns.histplot(data, x = 'topic', stat = 'probability')\n",
    "plt.xticks(rotation=85)\n",
    "plt.title(\"Distribution of Topics\")"
   ]
  },
  {
   "cell_type": "markdown",
   "id": "complex-marker",
   "metadata": {},
   "source": [
    "# Examples for Human(e) AI plenary meeting"
   ]
  },
  {
   "cell_type": "code",
   "execution_count": 36,
   "id": "tamil-problem",
   "metadata": {},
   "outputs": [
    {
     "data": {
      "text/html": [
       "<div>\n",
       "<style scoped>\n",
       "    .dataframe tbody tr th:only-of-type {\n",
       "        vertical-align: middle;\n",
       "    }\n",
       "\n",
       "    .dataframe tbody tr th {\n",
       "        vertical-align: top;\n",
       "    }\n",
       "\n",
       "    .dataframe thead th {\n",
       "        text-align: right;\n",
       "    }\n",
       "</style>\n",
       "<table border=\"1\" class=\"dataframe\">\n",
       "  <thead>\n",
       "    <tr style=\"text-align: right;\">\n",
       "      <th></th>\n",
       "      <th>id</th>\n",
       "      <th>gender</th>\n",
       "      <th>age</th>\n",
       "      <th>topic</th>\n",
       "      <th>sign</th>\n",
       "      <th>date</th>\n",
       "      <th>text</th>\n",
       "    </tr>\n",
       "  </thead>\n",
       "  <tbody>\n",
       "    <tr>\n",
       "      <th>0</th>\n",
       "      <td>2059027</td>\n",
       "      <td>male</td>\n",
       "      <td>15</td>\n",
       "      <td>Student</td>\n",
       "      <td>Leo</td>\n",
       "      <td>14,May,2004</td>\n",
       "      <td>Info has been found (+/- 100 pages,...</td>\n",
       "    </tr>\n",
       "    <tr>\n",
       "      <th>1</th>\n",
       "      <td>2059027</td>\n",
       "      <td>male</td>\n",
       "      <td>15</td>\n",
       "      <td>Student</td>\n",
       "      <td>Leo</td>\n",
       "      <td>13,May,2004</td>\n",
       "      <td>These are the team members:   Drewe...</td>\n",
       "    </tr>\n",
       "    <tr>\n",
       "      <th>2</th>\n",
       "      <td>2059027</td>\n",
       "      <td>male</td>\n",
       "      <td>15</td>\n",
       "      <td>Student</td>\n",
       "      <td>Leo</td>\n",
       "      <td>12,May,2004</td>\n",
       "      <td>In het kader van kernfusie op aarde...</td>\n",
       "    </tr>\n",
       "    <tr>\n",
       "      <th>3</th>\n",
       "      <td>2059027</td>\n",
       "      <td>male</td>\n",
       "      <td>15</td>\n",
       "      <td>Student</td>\n",
       "      <td>Leo</td>\n",
       "      <td>12,May,2004</td>\n",
       "      <td>testing!!!  testing!!!</td>\n",
       "    </tr>\n",
       "    <tr>\n",
       "      <th>4</th>\n",
       "      <td>3539003</td>\n",
       "      <td>female</td>\n",
       "      <td>14</td>\n",
       "      <td>indUnk</td>\n",
       "      <td>Aries</td>\n",
       "      <td>07,June,2004</td>\n",
       "      <td>O= optimist P= pessimist  My...</td>\n",
       "    </tr>\n",
       "  </tbody>\n",
       "</table>\n",
       "</div>"
      ],
      "text/plain": [
       "        id  gender age    topic   sign          date  \\\n",
       "0  2059027    male  15  Student    Leo   14,May,2004   \n",
       "1  2059027    male  15  Student    Leo   13,May,2004   \n",
       "2  2059027    male  15  Student    Leo   12,May,2004   \n",
       "3  2059027    male  15  Student    Leo   12,May,2004   \n",
       "4  3539003  female  14   indUnk  Aries  07,June,2004   \n",
       "\n",
       "                                                text  \n",
       "0             Info has been found (+/- 100 pages,...  \n",
       "1             These are the team members:   Drewe...  \n",
       "2             In het kader van kernfusie op aarde...  \n",
       "3                   testing!!!  testing!!!            \n",
       "4                    O= optimist P= pessimist  My...  "
      ]
     },
     "execution_count": 36,
     "metadata": {},
     "output_type": "execute_result"
    }
   ],
   "source": [
    "data_1317 = data[data['age'] < 18]\n",
    "data_1317.reset_index(drop = True, inplace = True)\n",
    "data_1317.head()"
   ]
  },
  {
   "cell_type": "code",
   "execution_count": 37,
   "id": "radio-grace",
   "metadata": {},
   "outputs": [
    {
     "data": {
      "text/plain": [
       "(32730, 7)"
      ]
     },
     "execution_count": 37,
     "metadata": {},
     "output_type": "execute_result"
    }
   ],
   "source": [
    "data_1317.shape"
   ]
  },
  {
   "cell_type": "code",
   "execution_count": 53,
   "id": "literary-obligation",
   "metadata": {},
   "outputs": [
    {
     "data": {
      "text/plain": [
       "\"       Yahoo! My dad is home! From Dallas! Where he has to work! And soon we'll move down there...! Good and bad, but he has a job there, so that's mostly good. Right? of course right. So he came back today after the final performance of vbs (yay, yay...) and taking my great grandmother some food...that's better than the goo they try to give her. But, now for the meaning of the title...Since i am going into highschool and all that fun stuff, i'll be going a few places by myself and doing things for long periods of time away from parental supervision. So, naturally, i need a way to check in with my folks. (who says folks?) And so, my dad got me a cell phone. Yahoo! I can call anyone in my family for free! So if you want to talk to me, you can call me so you will pay for the time, and i won't! But i can't talk long because i have a limited amount of minutes. And if you want to talk more than a bit (for what reason i don't know) call after 9 pm cause then i get unlimited minutes...but that doesn't really matter because no one knows my phone number! and that's the way it's going to stay. Not because i don't want to talk to you, well maybe i don't. But maybe i do. So now I'll just leave you in suspence forever. My brother and mom and dad all got new cells, and there's can take pics, but mine is great for me. And I'm happy, I wasn't going to get one, but then he got this one. So there you go. Out for now, I'm wiped. No...as in exhausted.          \""
      ]
     },
     "execution_count": 53,
     "metadata": {},
     "output_type": "execute_result"
    }
   ],
   "source": [
    "data_1317.text[666]"
   ]
  },
  {
   "cell_type": "code",
   "execution_count": 54,
   "id": "lesbian-netherlands",
   "metadata": {},
   "outputs": [
    {
     "data": {
      "text/plain": [
       "(19973, 7)"
      ]
     },
     "execution_count": 54,
     "metadata": {},
     "output_type": "execute_result"
    }
   ],
   "source": [
    "data_3347 = data[data['age'] > 32]\n",
    "data_3347.reset_index(drop = True, inplace = True)\n",
    "data_3347.shape"
   ]
  },
  {
   "cell_type": "code",
   "execution_count": 64,
   "id": "funded-fusion",
   "metadata": {},
   "outputs": [
    {
     "data": {
      "text/plain": [
       "\"           BTW, the toxoplasma stuff comes out in the news every few years with the intention of shocking pet owners.  'Oh, it's not my fault for being a slut...my cat has infected me with promiscuous disease.'  If rats are infected, it causes slight behavioural changes, thought to increase the chance of transmission.  Well, it causes no behavioural changes in infected cats.  In humans also, there has been no conclusive evidence to show that behaviour is directly affected by the parasite.  They 'evaluate' people's personalities, and then test if they have the disease.  Well, that ends up being a correlational study.  How do you know that people who like cats don't have certain behavioural characteristics already?  Or that people who are more likely to clean litter boxes don't have a certain personality?  Or maybe people who don't clean their houses are more likely to get it since they would be the most likely candidates for rat infestation.  There is no ethical way to show if there is any truth behind the claims that it supposedly has mind-altering effects on humans.  The only way to test for the personality change would be to test their personality before and after infection.  Comparative studies are the only ones that would be scientifically worth anything.  For now, the claims are total bollocks...   Off the subject, did anyone else think that the 'Matrices' were absolute shite?  Yuck!         \""
      ]
     },
     "execution_count": 64,
     "metadata": {},
     "output_type": "execute_result"
    }
   ],
   "source": [
    "data_3347.text[2000]"
   ]
  },
  {
   "cell_type": "markdown",
   "id": "homeless-louisiana",
   "metadata": {},
   "source": [
    "## Data cleaning / preprocessing"
   ]
  },
  {
   "cell_type": "code",
   "execution_count": null,
   "id": "second-richards",
   "metadata": {},
   "outputs": [],
   "source": [
    "# Removing all unwanted text/characters from data['text'] column\n",
    "\n",
    "# Remove all non-alphabetical characters\n",
    "data['clean_data'] = data['text'].apply(lambda x: re.sub(r'[^A-Za-z]+',' ', x))"
   ]
  },
  {
   "cell_type": "code",
   "execution_count": null,
   "id": "pretty-trustee",
   "metadata": {},
   "outputs": [],
   "source": [
    "# Make all letters lower case\n",
    "data['clean_data'] = data['clean_data'].apply(lambda x: x.lower())"
   ]
  },
  {
   "cell_type": "code",
   "execution_count": null,
   "id": "designed-spring",
   "metadata": {},
   "outputs": [],
   "source": [
    "# Remove white space from beginning and end of string\n",
    "data['clean_data'] = data['clean_data'].apply(lambda x: x.strip())"
   ]
  },
  {
   "cell_type": "code",
   "execution_count": null,
   "id": "distant-cambridge",
   "metadata": {},
   "outputs": [],
   "source": [
    "# Remove instances empty strings\n",
    "before_rm_empty = len(data)\n",
    "data.drop(data[data.clean_data == ''].index, inplace = True)\n",
    "\n",
    "print(f'{before_rm_empty - len(data)} instances removed.')"
   ]
  },
  {
   "cell_type": "code",
   "execution_count": null,
   "id": "complete-partnership",
   "metadata": {},
   "outputs": [],
   "source": [
    "# Remove texts that are probably not English by filtering blogs that dont contain at least one of the top 50 most used English words\n",
    "\n",
    "# create dict with most common English words\n",
    "top_en_words = {}\n",
    "with open('../data/wordlists/top1000english.txt') as f:\n",
    "    count = 1\n",
    "    for line in f:\n",
    "        key = line.split()[0].lower()\n",
    "        top_en_words[key] = count\n",
    "        count += 1\n",
    "        \n",
    "        # Stop at top 50 words. Idea taken from DialoGPT paper.\n",
    "        if count > 50:\n",
    "            break\n",
    "\n",
    "\n",
    "data['top_50_en'] = data['clean_data'].apply(lambda x : True if not set(x.split()).isdisjoint(top_en_words) else False)\n",
    "\n",
    "def top_lang_detect(text):\n",
    "    \n",
    "    detected_langs = detect_langs(text)\n",
    "    \n",
    "    return detected_langs[0].lang\n",
    "        \n",
    "\n",
    "def top_prob_detect(text):\n",
    "    \n",
    "    detected_langs = detect_langs(text)\n",
    "    \n",
    "    return detected_langs[0].prob\n",
    "\n",
    "data['top_lang'] = data['clean_data'].apply(top_lang_detect)\n",
    "data['top_prob'] = data['clean_data'].apply(top_prob_detect)"
   ]
  },
  {
   "cell_type": "code",
   "execution_count": null,
   "id": "suitable-default",
   "metadata": {},
   "outputs": [],
   "source": [
    "data"
   ]
  },
  {
   "cell_type": "code",
   "execution_count": null,
   "id": "lucky-documentation",
   "metadata": {},
   "outputs": [],
   "source": [
    "# Remove rows without one of top50 most common english words\n",
    "before_top50_removal = len(data)\n",
    "data.drop(data[data['top_50_en'] == False].index, inplace = True)\n",
    "print(f\"{before_top50_removal - len(data)} instances dropped\")"
   ]
  },
  {
   "cell_type": "code",
   "execution_count": null,
   "id": "historical-supervision",
   "metadata": {},
   "outputs": [],
   "source": [
    "before_top_lang = len(data)\n",
    "data.drop(data[data['top_lang'] != 'en'].index, inplace = True)\n",
    "print(f'{before_top_lang - len(data)} instances dropped.')"
   ]
  },
  {
   "cell_type": "code",
   "execution_count": null,
   "id": "cooked-doctor",
   "metadata": {},
   "outputs": [],
   "source": [
    "before_top_prob = len(data)\n",
    "data.drop(data[data['top_prob'] < 0.9].index, inplace = True)\n",
    "print(f'{before_top_prob - len(data)} instances dropped.')"
   ]
  },
  {
   "cell_type": "code",
   "execution_count": null,
   "id": "popular-thunder",
   "metadata": {},
   "outputs": [],
   "source": [
    "# Remove stop words\n",
    "stopwords = set(nltk.corpus.stopwords.words('english')) # use set (hash table) data structure for faster lookup\n",
    "data['clean_data'] = data['clean_data'].apply(lambda x: ' '.join([words for words in x.split() if words not in stopwords]))"
   ]
  },
  {
   "cell_type": "code",
   "execution_count": null,
   "id": "transsexual-essex",
   "metadata": {},
   "outputs": [],
   "source": [
    "# Check difference: before\n",
    "print(f\"Unprocessed data =====> {data['text'][0]}\")\n",
    "print(81 * \"=\")\n",
    "# After\n",
    "print(f\"Cleaned data so far =====> {data['clean_data'][0]}\")"
   ]
  },
  {
   "cell_type": "code",
   "execution_count": null,
   "id": "close-tucson",
   "metadata": {},
   "outputs": [],
   "source": [
    "data['clean_data'][6]"
   ]
  },
  {
   "cell_type": "code",
   "execution_count": null,
   "id": "sorted-satisfaction",
   "metadata": {},
   "outputs": [],
   "source": [
    "# Drop columns that are uninformative for writing style (i.e., ID and date)\n",
    "data.drop(['id', 'date'], axis = 1, inplace = True)"
   ]
  },
  {
   "cell_type": "code",
   "execution_count": null,
   "id": "adapted-correlation",
   "metadata": {},
   "outputs": [],
   "source": [
    "# Add labels for age categories\n",
    "def age_to_cat(age):\n",
    "    '''Returns age category label for given age number.'''\n",
    "    \n",
    "    if 13 <= int(age) <= 17:\n",
    "        return '13-17'\n",
    "    elif 23 <= int(age) <= 27:\n",
    "        return '23-27'\n",
    "    elif 33 <= int(age) <= 47:\n",
    "        return '33-47'\n",
    "    else:\n",
    "        raise ValueError(\"Given age not in one of pre-defined age groups.\")\n",
    "\n",
    "\n",
    "data['age_cat'] = data['age'].apply(age_to_cat)"
   ]
  },
  {
   "cell_type": "code",
   "execution_count": null,
   "id": "alternative-thompson",
   "metadata": {},
   "outputs": [],
   "source": [
    "data.head()"
   ]
  },
  {
   "cell_type": "code",
   "execution_count": null,
   "id": "rolled-civilization",
   "metadata": {},
   "outputs": [],
   "source": [
    "# Merge all possibly interesting labels into one column\n",
    "data['labels'] = data.apply(lambda col: [col['gender'], str(col['age']), col['topic'], col['sign']], axis = 1)\n",
    "\n",
    "# Only keep age as label\n",
    "# data['labels'] = data.apply(lambda col: [str(col['age'])], axis = 1) # TODO: Why keep age as string?\n",
    "# data['labels'] = data.apply(lambda col: [col['age']], axis = 1)\n",
    "data['labels'] = data.apply(lambda col: [col['age_cat']], axis = 1)"
   ]
  },
  {
   "cell_type": "code",
   "execution_count": null,
   "id": "aboriginal-gamma",
   "metadata": {},
   "outputs": [],
   "source": [
    "data.head()"
   ]
  },
  {
   "cell_type": "code",
   "execution_count": null,
   "id": "narrative-malta",
   "metadata": {},
   "outputs": [],
   "source": [
    "# Reduce dataframe to only contain cleaned blogs and list of labels\n",
    "data = data[['clean_data', 'labels']]\n"
   ]
  },
  {
   "cell_type": "code",
   "execution_count": null,
   "id": "above-nickname",
   "metadata": {},
   "outputs": [],
   "source": [
    "data.head()"
   ]
  },
  {
   "cell_type": "markdown",
   "id": "reserved-omaha",
   "metadata": {},
   "source": [
    "## Classification"
   ]
  },
  {
   "cell_type": "code",
   "execution_count": null,
   "id": "acute-catalog",
   "metadata": {},
   "outputs": [],
   "source": [
    "# Split data into features/ X and labels / Y \n",
    "X = data['clean_data']\n",
    "Y = data['labels']"
   ]
  },
  {
   "cell_type": "markdown",
   "id": "chronic-demand",
   "metadata": {},
   "source": [
    "### Bi-gram and tri-gram models"
   ]
  },
  {
   "cell_type": "code",
   "execution_count": null,
   "id": "basic-hawaii",
   "metadata": {},
   "outputs": [],
   "source": [
    "# bi-gram model\n",
    "vectorizer = CountVectorizer(binary = True, ngram_range = (1, MAX_N_GRAM))\n",
    "\n",
    "# fit model\n",
    "X = vectorizer.fit_transform(X)"
   ]
  },
  {
   "cell_type": "code",
   "execution_count": null,
   "id": "regular-framing",
   "metadata": {},
   "outputs": [],
   "source": [
    "# check out a sample of the uni- and bigrams\n",
    "print(vectorizer.get_feature_names()[:10])"
   ]
  },
  {
   "cell_type": "code",
   "execution_count": null,
   "id": "narrative-syria",
   "metadata": {},
   "outputs": [],
   "source": [
    "# Get label counts\n",
    "label_counts = {}\n",
    "\n",
    "for labels in data.labels.values:\n",
    "    for label in labels:\n",
    "        if label in label_counts:\n",
    "            label_counts[label] += 1\n",
    "        else:\n",
    "            label_counts[label] = 1"
   ]
  },
  {
   "cell_type": "code",
   "execution_count": null,
   "id": "designed-latter",
   "metadata": {},
   "outputs": [],
   "source": [
    "label_counts"
   ]
  },
  {
   "cell_type": "code",
   "execution_count": null,
   "id": "continental-criticism",
   "metadata": {},
   "outputs": [],
   "source": [
    "# Binarize the labels for prediction \n",
    "binarizer = MultiLabelBinarizer(classes = sorted(label_counts.keys()))"
   ]
  },
  {
   "cell_type": "code",
   "execution_count": null,
   "id": "crude-video",
   "metadata": {},
   "outputs": [],
   "source": [
    "Y = binarizer.fit_transform(data.labels)"
   ]
  },
  {
   "cell_type": "code",
   "execution_count": null,
   "id": "composite-ebony",
   "metadata": {},
   "outputs": [],
   "source": [
    "label_counts.keys()"
   ]
  },
  {
   "cell_type": "code",
   "execution_count": null,
   "id": "special-volleyball",
   "metadata": {},
   "outputs": [],
   "source": [
    "# Split data into train and test sets\n",
    "X_train, X_test, Y_train, Y_test = train_test_split(X, Y, test_size = TEST_SPLIT)"
   ]
  },
  {
   "cell_type": "code",
   "execution_count": null,
   "id": "beautiful-livestock",
   "metadata": {},
   "outputs": [],
   "source": [
    "# Fit logistic regression model\n",
    "model = LogisticRegression(solver = 'lbfgs', multi_class='ovr') #TODO: different solveR?\n",
    "model = OneVsRestClassifier(model) # TODO: Change this  to multi-class classifier for age cats\n",
    "model.fit(X_train, Y_train)"
   ]
  },
  {
   "cell_type": "code",
   "execution_count": null,
   "id": "apart-elizabeth",
   "metadata": {},
   "outputs": [],
   "source": [
    "# make predictions on test set\n",
    "Y_pred = model.predict(X_test)"
   ]
  },
  {
   "cell_type": "code",
   "execution_count": null,
   "id": "compliant-conviction",
   "metadata": {},
   "outputs": [],
   "source": [
    "Y_pred_inversed = binarizer.inverse_transform(Y_pred)\n",
    "Y_test_inversed = binarizer.inverse_transform(Y_test)"
   ]
  },
  {
   "cell_type": "code",
   "execution_count": null,
   "id": "pleasant-relationship",
   "metadata": {},
   "outputs": [],
   "source": [
    "# Evaluate performance\n",
    "def print_evaluation_scores(labels, preds):\n",
    "    print(f\"Accuracy: {accuracy_score(labels, preds)}\")\n",
    "    print(f\"F1 score: {f1_score(labels, preds, average = 'micro')}\")\n",
    "    print(f\"Average precision: {average_precision_score(labels, preds, average = 'micro')}\")\n",
    "    print(f\"Average recall: {recall_score(labels, preds, average = 'micro')}\")"
   ]
  },
  {
   "cell_type": "code",
   "execution_count": null,
   "id": "living-numbers",
   "metadata": {},
   "outputs": [],
   "source": [
    "print_evaluation_scores(Y_test, Y_pred)"
   ]
  },
  {
   "cell_type": "code",
   "execution_count": null,
   "id": "mathematical-opening",
   "metadata": {},
   "outputs": [],
   "source": []
  }
 ],
 "metadata": {
  "kernelspec": {
   "display_name": "Python 3",
   "language": "python",
   "name": "python3"
  },
  "language_info": {
   "codemirror_mode": {
    "name": "ipython",
    "version": 3
   },
   "file_extension": ".py",
   "mimetype": "text/x-python",
   "name": "python",
   "nbconvert_exporter": "python",
   "pygments_lexer": "ipython3",
   "version": "3.7.10"
  }
 },
 "nbformat": 4,
 "nbformat_minor": 5
}
